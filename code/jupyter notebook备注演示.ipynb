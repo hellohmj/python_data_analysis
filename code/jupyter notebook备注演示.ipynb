{
 "cells": [
  {
   "cell_type": "code",
   "execution_count": 1,
   "metadata": {},
   "outputs": [
    {
     "name": "stdout",
     "output_type": "stream",
     "text": [
      "hello world!\n"
     ]
    }
   ],
   "source": [
    "print('hello world!')"
   ]
  },
  {
   "cell_type": "markdown",
   "metadata": {},
   "source": [
    "## 一号"
   ]
  },
  {
   "cell_type": "markdown",
   "metadata": {},
   "source": [
    "### 二号"
   ]
  },
  {
   "cell_type": "markdown",
   "metadata": {},
   "source": [
    "#### 三号"
   ]
  },
  {
   "cell_type": "markdown",
   "metadata": {},
   "source": [
    "## *一号（斜体）*"
   ]
  },
  {
   "cell_type": "markdown",
   "metadata": {},
   "source": [
    "## **一号（加粗）**"
   ]
  },
  {
   "cell_type": "markdown",
   "metadata": {},
   "source": [
    "## ***一号（粗斜）***"
   ]
  },
  {
   "cell_type": "markdown",
   "metadata": {},
   "source": [
    "序号 |课程模块 |课程内容 |日期 |学时/天 |讲师\n",
    "-----|---------|-----------|--------|---------|-------|\n",
    "4 |Python 数据分析与应用|  Python 数据分析概述| 6/6| 1| 杨惠|\n",
    "4 |Python 数据分析与应用|  NumPy 数值计算基础| 6/7| 1| 杨惠|"
   ]
  },
  {
   "cell_type": "markdown",
   "metadata": {},
   "source": [
    "- $ E = mc^2$\n",
    "- $ \\pi\\alpha\\beta\\theta$ 希腊字母\n",
    "- $x^{1/2}$ 乘方\n",
    "- $1\\frac{1}{2}$ 分数\n",
    "- $x \\times y$ 乘法\n",
    "- $\\sqrt {x + y}$ 平方根\n",
    "- $x \\div y$ 除法\n",
    "- $x \\leq y$ 小于或等于\n",
    "- $x \\neq y$ 不等于\n",
    "- $\\sum\\limits_{x = 1}^{n} 7x$ 求和\n",
    "- $\\int_{0}^{\\frac{\\pi}{2}} \\sin(x)$ 积分"
   ]
  }
 ],
 "metadata": {
  "kernelspec": {
   "display_name": "Python 3",
   "language": "python",
   "name": "python3"
  },
  "language_info": {
   "codemirror_mode": {
    "name": "ipython",
    "version": 3
   },
   "file_extension": ".py",
   "mimetype": "text/x-python",
   "name": "python",
   "nbconvert_exporter": "python",
   "pygments_lexer": "ipython3",
   "version": "3.8.5"
  }
 },
 "nbformat": 4,
 "nbformat_minor": 4
}
