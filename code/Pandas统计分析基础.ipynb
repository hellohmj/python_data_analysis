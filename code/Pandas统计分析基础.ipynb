{
 "cells": [
  {
   "cell_type": "markdown",
   "metadata": {},
   "source": [
    "## 读写不同数据源的数据"
   ]
  },
  {
   "cell_type": "code",
   "execution_count": 58,
   "metadata": {
    "ExecuteTime": {
     "end_time": "2023-12-09T12:30:14.532042Z",
     "start_time": "2023-12-09T12:30:14.411126700Z"
    }
   },
   "outputs": [],
   "source": [
    "import pandas as pd"
   ]
  },
  {
   "cell_type": "code",
   "execution_count": 59,
   "metadata": {
    "ExecuteTime": {
     "end_time": "2023-12-09T12:30:14.570675900Z",
     "start_time": "2023-12-09T12:30:14.538598800Z"
    }
   },
   "outputs": [],
   "source": [
    "# 读取文本数据\n",
    "data_txt = pd.read_csv('C:/Users/VICTUS/OneDrive - stu.fynu.edu.cn/python数据分析与应用ZM/data/meal_order_info.txt', sep=' ')  #这里有一个空格\n",
    "\n",
    "data_csv = pd.read_csv('C:/Users/VICTUS/OneDrive - stu.fynu.edu.cn/python数据分析与应用ZM/data/meal_order_info.csv', encoding='GBK', header=0)"
   ]
  },
  {
   "cell_type": "code",
   "execution_count": 60,
   "metadata": {
    "ExecuteTime": {
     "end_time": "2023-12-09T12:30:14.604496400Z",
     "start_time": "2023-12-09T12:30:14.559745Z"
    }
   },
   "outputs": [
    {
     "data": {
      "text/plain": "     info_id  emp_id  number_consumers  mode  dining_table_id  \\\n0        417    1442                 4   NaN             1501   \n1        301    1095                 3   NaN             1430   \n2        413    1147                 6   NaN             1488   \n3        415    1166                 4   NaN             1502   \n4        392    1094                10   NaN             1499   \n..       ...     ...               ...   ...              ...   \n940      641    1095                 8   NaN             1492   \n941      672    1089                 6   NaN             1489   \n942      692    1155                 8   NaN             1492   \n943      647    1094                 4   NaN             1485   \n944      570    1113                 8   NaN             1517   \n\n     dining_table_name  expenditure  dishes_count  accounts_payable  \\\n0                 1022          165             5               165   \n1                 1031          321             6               321   \n2                 1009          854            15               854   \n3                 1023          466            10               466   \n4                 1020          704            24               704   \n..                 ...          ...           ...               ...   \n940               1013          679            12               679   \n941               1010          800            24               800   \n942               1013          735            10               735   \n943               1006          262             9               262   \n944               1038          589            13               589   \n\n         use_start_time  ...           lock_time cashier_id  pc_id  \\\n0     2016/8/1 11:05:36  ...   2016/8/1 11:11:46        NaN    NaN   \n1     2016/8/1 11:15:57  ...   2016/8/1 11:31:55        NaN    NaN   \n2     2016/8/1 12:42:52  ...   2016/8/1 12:54:37        NaN    NaN   \n3     2016/8/1 12:51:38  ...   2016/8/1 13:08:20        NaN    NaN   \n4     2016/8/1 12:58:44  ...   2016/8/1 13:07:16        NaN    NaN   \n..                  ...  ...                 ...        ...    ...   \n940  2016/8/31 21:23:48  ...  2016/8/31 21:31:48        NaN    NaN   \n941  2016/8/31 21:24:12  ...  2016/8/31 21:56:12        NaN    NaN   \n942  2016/8/31 21:25:18  ...  2016/8/31 21:33:34        NaN    NaN   \n943  2016/8/31 21:37:39  ...  2016/8/31 21:55:39        NaN    NaN   \n944  2016/8/31 21:41:56  ...  2016/8/31 21:32:56        NaN    NaN   \n\n     order_number  org_id  print_doc_bill_num  lock_table_info  order_status  \\\n0             NaN     330                 NaN              NaN             1   \n1             NaN     328                 NaN              NaN             1   \n2             NaN     330                 NaN              NaN             1   \n3             NaN     330                 NaN              NaN             1   \n4             NaN     330                 NaN              NaN             1   \n..            ...     ...                 ...              ...           ...   \n940           NaN     330                 NaN              NaN             1   \n941           NaN     330                 NaN              NaN             1   \n942           NaN     330                 NaN              NaN             1   \n943           NaN     330                 NaN              NaN             1   \n944           NaN     330                 NaN              NaN             1   \n\n           phone  name  \n0    18688880641   苗宇怡  \n1    18688880174    赵颖  \n2    18688880276   徐毅凡  \n3    18688880231   张大鹏  \n4    18688880173   孙熙凯  \n..           ...   ...  \n940  18688880307    李靖  \n941  18688880305    莫言  \n942  18688880327   习一冰  \n943  18688880207   章春华  \n944  18688880313   唐雅嘉  \n\n[945 rows x 21 columns]",
      "text/html": "<div>\n<style scoped>\n    .dataframe tbody tr th:only-of-type {\n        vertical-align: middle;\n    }\n\n    .dataframe tbody tr th {\n        vertical-align: top;\n    }\n\n    .dataframe thead th {\n        text-align: right;\n    }\n</style>\n<table border=\"1\" class=\"dataframe\">\n  <thead>\n    <tr style=\"text-align: right;\">\n      <th></th>\n      <th>info_id</th>\n      <th>emp_id</th>\n      <th>number_consumers</th>\n      <th>mode</th>\n      <th>dining_table_id</th>\n      <th>dining_table_name</th>\n      <th>expenditure</th>\n      <th>dishes_count</th>\n      <th>accounts_payable</th>\n      <th>use_start_time</th>\n      <th>...</th>\n      <th>lock_time</th>\n      <th>cashier_id</th>\n      <th>pc_id</th>\n      <th>order_number</th>\n      <th>org_id</th>\n      <th>print_doc_bill_num</th>\n      <th>lock_table_info</th>\n      <th>order_status</th>\n      <th>phone</th>\n      <th>name</th>\n    </tr>\n  </thead>\n  <tbody>\n    <tr>\n      <th>0</th>\n      <td>417</td>\n      <td>1442</td>\n      <td>4</td>\n      <td>NaN</td>\n      <td>1501</td>\n      <td>1022</td>\n      <td>165</td>\n      <td>5</td>\n      <td>165</td>\n      <td>2016/8/1 11:05:36</td>\n      <td>...</td>\n      <td>2016/8/1 11:11:46</td>\n      <td>NaN</td>\n      <td>NaN</td>\n      <td>NaN</td>\n      <td>330</td>\n      <td>NaN</td>\n      <td>NaN</td>\n      <td>1</td>\n      <td>18688880641</td>\n      <td>苗宇怡</td>\n    </tr>\n    <tr>\n      <th>1</th>\n      <td>301</td>\n      <td>1095</td>\n      <td>3</td>\n      <td>NaN</td>\n      <td>1430</td>\n      <td>1031</td>\n      <td>321</td>\n      <td>6</td>\n      <td>321</td>\n      <td>2016/8/1 11:15:57</td>\n      <td>...</td>\n      <td>2016/8/1 11:31:55</td>\n      <td>NaN</td>\n      <td>NaN</td>\n      <td>NaN</td>\n      <td>328</td>\n      <td>NaN</td>\n      <td>NaN</td>\n      <td>1</td>\n      <td>18688880174</td>\n      <td>赵颖</td>\n    </tr>\n    <tr>\n      <th>2</th>\n      <td>413</td>\n      <td>1147</td>\n      <td>6</td>\n      <td>NaN</td>\n      <td>1488</td>\n      <td>1009</td>\n      <td>854</td>\n      <td>15</td>\n      <td>854</td>\n      <td>2016/8/1 12:42:52</td>\n      <td>...</td>\n      <td>2016/8/1 12:54:37</td>\n      <td>NaN</td>\n      <td>NaN</td>\n      <td>NaN</td>\n      <td>330</td>\n      <td>NaN</td>\n      <td>NaN</td>\n      <td>1</td>\n      <td>18688880276</td>\n      <td>徐毅凡</td>\n    </tr>\n    <tr>\n      <th>3</th>\n      <td>415</td>\n      <td>1166</td>\n      <td>4</td>\n      <td>NaN</td>\n      <td>1502</td>\n      <td>1023</td>\n      <td>466</td>\n      <td>10</td>\n      <td>466</td>\n      <td>2016/8/1 12:51:38</td>\n      <td>...</td>\n      <td>2016/8/1 13:08:20</td>\n      <td>NaN</td>\n      <td>NaN</td>\n      <td>NaN</td>\n      <td>330</td>\n      <td>NaN</td>\n      <td>NaN</td>\n      <td>1</td>\n      <td>18688880231</td>\n      <td>张大鹏</td>\n    </tr>\n    <tr>\n      <th>4</th>\n      <td>392</td>\n      <td>1094</td>\n      <td>10</td>\n      <td>NaN</td>\n      <td>1499</td>\n      <td>1020</td>\n      <td>704</td>\n      <td>24</td>\n      <td>704</td>\n      <td>2016/8/1 12:58:44</td>\n      <td>...</td>\n      <td>2016/8/1 13:07:16</td>\n      <td>NaN</td>\n      <td>NaN</td>\n      <td>NaN</td>\n      <td>330</td>\n      <td>NaN</td>\n      <td>NaN</td>\n      <td>1</td>\n      <td>18688880173</td>\n      <td>孙熙凯</td>\n    </tr>\n    <tr>\n      <th>...</th>\n      <td>...</td>\n      <td>...</td>\n      <td>...</td>\n      <td>...</td>\n      <td>...</td>\n      <td>...</td>\n      <td>...</td>\n      <td>...</td>\n      <td>...</td>\n      <td>...</td>\n      <td>...</td>\n      <td>...</td>\n      <td>...</td>\n      <td>...</td>\n      <td>...</td>\n      <td>...</td>\n      <td>...</td>\n      <td>...</td>\n      <td>...</td>\n      <td>...</td>\n      <td>...</td>\n    </tr>\n    <tr>\n      <th>940</th>\n      <td>641</td>\n      <td>1095</td>\n      <td>8</td>\n      <td>NaN</td>\n      <td>1492</td>\n      <td>1013</td>\n      <td>679</td>\n      <td>12</td>\n      <td>679</td>\n      <td>2016/8/31 21:23:48</td>\n      <td>...</td>\n      <td>2016/8/31 21:31:48</td>\n      <td>NaN</td>\n      <td>NaN</td>\n      <td>NaN</td>\n      <td>330</td>\n      <td>NaN</td>\n      <td>NaN</td>\n      <td>1</td>\n      <td>18688880307</td>\n      <td>李靖</td>\n    </tr>\n    <tr>\n      <th>941</th>\n      <td>672</td>\n      <td>1089</td>\n      <td>6</td>\n      <td>NaN</td>\n      <td>1489</td>\n      <td>1010</td>\n      <td>800</td>\n      <td>24</td>\n      <td>800</td>\n      <td>2016/8/31 21:24:12</td>\n      <td>...</td>\n      <td>2016/8/31 21:56:12</td>\n      <td>NaN</td>\n      <td>NaN</td>\n      <td>NaN</td>\n      <td>330</td>\n      <td>NaN</td>\n      <td>NaN</td>\n      <td>1</td>\n      <td>18688880305</td>\n      <td>莫言</td>\n    </tr>\n    <tr>\n      <th>942</th>\n      <td>692</td>\n      <td>1155</td>\n      <td>8</td>\n      <td>NaN</td>\n      <td>1492</td>\n      <td>1013</td>\n      <td>735</td>\n      <td>10</td>\n      <td>735</td>\n      <td>2016/8/31 21:25:18</td>\n      <td>...</td>\n      <td>2016/8/31 21:33:34</td>\n      <td>NaN</td>\n      <td>NaN</td>\n      <td>NaN</td>\n      <td>330</td>\n      <td>NaN</td>\n      <td>NaN</td>\n      <td>1</td>\n      <td>18688880327</td>\n      <td>习一冰</td>\n    </tr>\n    <tr>\n      <th>943</th>\n      <td>647</td>\n      <td>1094</td>\n      <td>4</td>\n      <td>NaN</td>\n      <td>1485</td>\n      <td>1006</td>\n      <td>262</td>\n      <td>9</td>\n      <td>262</td>\n      <td>2016/8/31 21:37:39</td>\n      <td>...</td>\n      <td>2016/8/31 21:55:39</td>\n      <td>NaN</td>\n      <td>NaN</td>\n      <td>NaN</td>\n      <td>330</td>\n      <td>NaN</td>\n      <td>NaN</td>\n      <td>1</td>\n      <td>18688880207</td>\n      <td>章春华</td>\n    </tr>\n    <tr>\n      <th>944</th>\n      <td>570</td>\n      <td>1113</td>\n      <td>8</td>\n      <td>NaN</td>\n      <td>1517</td>\n      <td>1038</td>\n      <td>589</td>\n      <td>13</td>\n      <td>589</td>\n      <td>2016/8/31 21:41:56</td>\n      <td>...</td>\n      <td>2016/8/31 21:32:56</td>\n      <td>NaN</td>\n      <td>NaN</td>\n      <td>NaN</td>\n      <td>330</td>\n      <td>NaN</td>\n      <td>NaN</td>\n      <td>1</td>\n      <td>18688880313</td>\n      <td>唐雅嘉</td>\n    </tr>\n  </tbody>\n</table>\n<p>945 rows × 21 columns</p>\n</div>"
     },
     "execution_count": 60,
     "metadata": {},
     "output_type": "execute_result"
    }
   ],
   "source": [
    "data_csv"
   ]
  },
  {
   "cell_type": "code",
   "execution_count": 61,
   "metadata": {
    "ExecuteTime": {
     "end_time": "2023-12-09T12:30:14.626599800Z",
     "start_time": "2023-12-09T12:30:14.585993900Z"
    }
   },
   "outputs": [],
   "source": [
    "# 将数据框存储为文本文件数据\n",
    "data_csv.to_csv('C:/Users/VICTUS/OneDrive - stu.fynu.edu.cn/python数据分析与应用ZM/tmp/data_csv.csv', index=None, encoding='gbk')"
   ]
  },
  {
   "cell_type": "code",
   "execution_count": 62,
   "metadata": {
    "ExecuteTime": {
     "end_time": "2023-12-09T12:30:15.486794500Z",
     "start_time": "2023-12-09T12:30:14.602137400Z"
    }
   },
   "outputs": [],
   "source": [
    "# 读取Excel文件\n",
    "data_excel = pd.read_excel('C:/Users/VICTUS/OneDrive - stu.fynu.edu.cn/python数据分析与应用ZM/data/meal_order_detail.xlsx', sheet_name='meal_order_detail2')"
   ]
  },
  {
   "cell_type": "code",
   "execution_count": 63,
   "metadata": {
    "ExecuteTime": {
     "end_time": "2023-12-09T12:30:16.984702100Z",
     "start_time": "2023-12-09T12:30:15.489640100Z"
    }
   },
   "outputs": [],
   "source": [
    "data_excel.to_excel('C:/Users/VICTUS/OneDrive - stu.fynu.edu.cn/python数据分析与应用ZM/tmp/data_excel.xlsx', index=None, sheet_name='test1')"
   ]
  },
  {
   "cell_type": "markdown",
   "metadata": {},
   "source": [
    "## 掌握DataFrame的常用操作"
   ]
  },
  {
   "cell_type": "code",
   "execution_count": 64,
   "metadata": {
    "ExecuteTime": {
     "end_time": "2023-12-09T12:30:16.992869900Z",
     "start_time": "2023-12-09T12:30:16.985707600Z"
    }
   },
   "outputs": [],
   "source": [
    "import pandas as pd"
   ]
  },
  {
   "cell_type": "code",
   "execution_count": 65,
   "metadata": {
    "ExecuteTime": {
     "end_time": "2023-12-09T12:30:17.013440700Z",
     "start_time": "2023-12-09T12:30:16.994229100Z"
    }
   },
   "outputs": [
    {
     "name": "stdout",
     "output_type": "stream",
     "text": [
      "a    1\n",
      "b    2\n",
      "c    a\n",
      "dtype: object\n",
      "a    [1, 2, 3]\n",
      "b    [1, 2, 3]\n",
      "dtype: object\n"
     ]
    }
   ],
   "source": [
    "# Series系列\n",
    "ser1 = pd.Series([1,2,'a'],index=['a','b','c'])\n",
    "print(ser1)\n",
    "ser2 = pd.Series({'a':[1,2,3],'b':['1','2','3']})\n",
    "print(ser2)"
   ]
  },
  {
   "cell_type": "code",
   "execution_count": 66,
   "metadata": {
    "ExecuteTime": {
     "end_time": "2023-12-09T12:30:17.038664100Z",
     "start_time": "2023-12-09T12:30:17.001794200Z"
    }
   },
   "outputs": [
    {
     "name": "stdout",
     "output_type": "stream",
     "text": [
      "[[1.3, 2.0, 3, 4], [2, 4, 1, 4], [2, 5, 1.9, 7], [3, 1, 0, 11]]\n",
      "     A    B    C   D\n",
      "a  1.3  2.0  3.0   4\n",
      "b  2.0  4.0  1.0   4\n",
      "c  2.0  5.0  1.9   7\n",
      "d  3.0  1.0  0.0  11\n",
      "    color  object  price\n",
      "a    blue    ball    1.2\n",
      "b   green     pen    1.0\n",
      "c  yellow  pencil    0.6\n",
      "d     red   paper    0.9\n",
      "e   white     mug    1.7\n",
      "     1    2\n",
      "1  NaN  NaN\n",
      "2  NaN  NaN\n",
      "   1  2\n",
      "1  1  1\n",
      "2  1  1\n"
     ]
    }
   ],
   "source": [
    "# 构造数据框（DataFrame）\n",
    "d=[[1.3,2.0,3,4],[2,4,1,4],[2,5,1.9,7],[3,1,0,11]]\n",
    "print(d)\n",
    "df = pd.DataFrame(d, index=['a', 'b', 'c', 'd'], columns=['A', 'B', 'C', 'D'])\n",
    "print(df)\n",
    "\n",
    "d={'color':['blue','green','yellow','red','white'],\n",
    "   'object':['ball','pen','pencil','paper','mug'],\n",
    "   'price':[1.2,1.0,0.6,0.9,1.7]}\n",
    "frame = pd.DataFrame(d,index=['a','b','c','d','e'])\n",
    "print(frame)\n",
    "\n",
    "print(pd.DataFrame(index=[1, 2], columns=[1, 2]))\n",
    "print(pd.DataFrame(1, index=[1, 2], columns=[1, 2]))"
   ]
  },
  {
   "cell_type": "code",
   "execution_count": 67,
   "metadata": {
    "ExecuteTime": {
     "end_time": "2023-12-09T12:30:17.040662900Z",
     "start_time": "2023-12-09T12:30:17.024565400Z"
    }
   },
   "outputs": [
    {
     "name": "stdout",
     "output_type": "stream",
     "text": [
      "     A    B    C   D\n",
      "a  1.3  2.0  3.0   4\n",
      "b  2.0  4.0  1.0   4\n",
      "c  2.0  5.0  1.9   7\n",
      "d  3.0  1.0  0.0  11\n",
      "[[ 1.3  2.   3.   4. ]\n",
      " [ 2.   4.   1.   4. ]\n",
      " [ 2.   5.   1.9  7. ]\n",
      " [ 3.   1.   0.  11. ]]\n",
      "Index(['a', 'b', 'c', 'd'], dtype='object')\n",
      "(4, 4)\n",
      "A    float64\n",
      "B    float64\n",
      "C    float64\n",
      "D      int64\n",
      "dtype: object\n"
     ]
    }
   ],
   "source": [
    "# 数据框的常用属性\n",
    "d=[[1.3,2.0,3,4],[2,4,1,4],[2,5,1.9,7],[3,1,0,11]]\n",
    "df = pd.DataFrame(d, index=['a', 'b', 'c', 'd'], columns=['A', 'B', 'C', 'D'])\n",
    "print(df)\n",
    "print(df.values)\n",
    "print(df.index)\n",
    "print(df.shape)\n",
    "print(df.dtypes)"
   ]
  },
  {
   "cell_type": "markdown",
   "metadata": {},
   "source": [
    "### 数据框的查改增删操作"
   ]
  },
  {
   "cell_type": "code",
   "execution_count": 68,
   "metadata": {
    "ExecuteTime": {
     "end_time": "2023-12-09T12:30:17.088954700Z",
     "start_time": "2023-12-09T12:30:17.037663200Z"
    }
   },
   "outputs": [
    {
     "name": "stdout",
     "output_type": "stream",
     "text": [
      "     A    B    C   D\n",
      "a  1.3  2.0  3.0   4\n",
      "b  2.0  4.0  1.0   4\n",
      "c  2.0  5.0  1.9   7\n",
      "d  3.0  1.0  0.0  11\n",
      "a    1.3\n",
      "b    2.0\n",
      "c    2.0\n",
      "d    3.0\n",
      "Name: A, dtype: float64\n",
      "     A    C\n",
      "a  1.3  3.0\n",
      "b  2.0  1.0\n",
      "c  2.0  1.9\n",
      "d  3.0  0.0\n",
      "     A    B    C  D\n",
      "a  1.3  2.0  3.0  4\n",
      "b  2.0  4.0  1.0  4\n",
      "c  2.0  5.0  1.9  7\n",
      "     A    B    C   D\n",
      "b  2.0  4.0  1.0   4\n",
      "c  2.0  5.0  1.9   7\n",
      "d  3.0  1.0  0.0  11\n",
      "1.3\n",
      "a    1.3\n",
      "b    2.0\n",
      "c    2.0\n",
      "Name: A, dtype: float64\n",
      "a    1.3\n",
      "b    2.0\n",
      "c    2.0\n",
      "d    3.0\n",
      "Name: A, dtype: float64\n",
      "A    1.3\n",
      "B    2.0\n",
      "C    3.0\n",
      "D    4.0\n",
      "Name: a, dtype: float64\n",
      "     B    C\n",
      "b  4.0  1.0\n",
      "c  5.0  1.9\n",
      "1.3\n",
      "a    1.3\n",
      "b    2.0\n",
      "c    2.0\n",
      "Name: A, dtype: float64\n",
      "a    1.3\n",
      "b    2.0\n",
      "c    2.0\n",
      "d    3.0\n",
      "Name: A, dtype: float64\n",
      "A    1.3\n",
      "B    2.0\n",
      "C    3.0\n",
      "D    4.0\n",
      "Name: a, dtype: float64\n",
      "     B    C\n",
      "b  4.0  1.0\n",
      "c  5.0  1.9\n",
      "a    1.3\n",
      "b    2.0\n",
      "c    2.0\n",
      "d    3.0\n",
      "Name: A, dtype: float64\n",
      "     A\n",
      "a  1.3\n",
      "b  2.0\n",
      "c  2.0\n",
      "d  3.0\n"
     ]
    }
   ],
   "source": [
    "# 访问数据框中的元素\n",
    "d=[[1.3,2.0,3,4],[2,4,1,4],[2,5,1.9,7],[3,1,0,11]]\n",
    "df = pd.DataFrame(d, index=['a', 'b', 'c', 'd'], columns=['A', 'B', 'C', 'D'])\n",
    "print(df)\n",
    "\n",
    "print(df['A'])         # 单列数据访问\n",
    "print(df[['A', 'C']])  # 多列数据访问\n",
    "\n",
    "print(df.head(3))     # 访问某几行数据\n",
    "print(df.tail(3))\n",
    "\n",
    "print(df.iloc[0, 0])    # 按照行列顺序进行数据访问\n",
    "print(df.iloc[0:3, 0])\n",
    "print(df.iloc[:, 0])\n",
    "print(df.iloc[0, :])\n",
    "print(df.iloc[1:3, 1:3])\n",
    "\n",
    "print(df.loc['a', 'A'])   # 按照行列名称进行数据访问\n",
    "print(df.loc['a':'c', 'A'])\n",
    "print(df.loc[:, 'A'])\n",
    "print(df.loc['a', :])\n",
    "print(df.loc[['b','c'], ['B', 'C']])\n",
    "\n",
    "# 注意如下方式返回值的区别\n",
    "print(df.iloc[:, 0])\n",
    "print(df.iloc[:, 0:1])"
   ]
  },
  {
   "cell_type": "code",
   "execution_count": 69,
   "metadata": {
    "ExecuteTime": {
     "end_time": "2023-12-09T12:30:17.091055900Z",
     "start_time": "2023-12-09T12:30:17.068987700Z"
    }
   },
   "outputs": [
    {
     "name": "stdout",
     "output_type": "stream",
     "text": [
      "     A    B    C   D\n",
      "a  1.3  2.0  3.0   4\n",
      "b  2.0  4.0  1.0   4\n",
      "c  2.0  5.0  1.9   7\n",
      "d  3.0  1.0  0.0  11\n",
      "       A     B  C   D\n",
      "a  101.0  0.25  1   4\n",
      "b    2.0  0.25  2   4\n",
      "c    2.0  0.25  3   7\n",
      "d    3.0  0.25  4  11\n"
     ]
    },
    {
     "name": "stderr",
     "output_type": "stream",
     "text": [
      "C:\\Users\\VICTUS\\AppData\\Local\\Temp\\ipykernel_25392\\2923878697.py:7: DeprecationWarning: In a future version, `df.iloc[:, i] = newvals` will attempt to set the values inplace instead of always setting a new array. To retain the old behavior, use either `df[df.columns[i]] = newvals` or, if columns are non-unique, `df.isetitem(i, newvals)`\n",
      "  df.loc[:, 'C'] = [1, 2, 3, 4]\n"
     ]
    }
   ],
   "source": [
    "# 修改数据框中的元素\n",
    "d=[[1.3,2.0,3,4],[2,4,1,4],[2,5,1.9,7],[3,1,0,11]]\n",
    "df = pd.DataFrame(d, index=['a', 'b', 'c', 'd'], columns=['A', 'B', 'C', 'D'])\n",
    "print(df)\n",
    "df.loc['a', 'A'] = 101\n",
    "df.loc[:, 'B'] = 0.25\n",
    "df.loc[:, 'C'] = [1, 2, 3, 4]\n",
    "print(df)"
   ]
  },
  {
   "cell_type": "code",
   "execution_count": 70,
   "metadata": {
    "ExecuteTime": {
     "end_time": "2023-12-09T12:30:17.104382700Z",
     "start_time": "2023-12-09T12:30:17.080017600Z"
    }
   },
   "outputs": [
    {
     "name": "stdout",
     "output_type": "stream",
     "text": [
      "     A    B    C   D\n",
      "a  1.3  2.0  3.0   4\n",
      "b  2.0  4.0  1.0   4\n",
      "c  2.0  5.0  1.9   7\n",
      "d  3.0  1.0  0.0  11\n",
      "     A    B    C   D  E  F\n",
      "a  1.3  2.0  3.0   4  5  1\n",
      "b  2.0  4.0  1.0   4  5  2\n",
      "c  2.0  5.0  1.9   7  5  3\n",
      "d  3.0  1.0  0.0  11  5  4\n"
     ]
    }
   ],
   "source": [
    "# 为数据框增添数据\n",
    "d=[[1.3,2.0,3,4],[2,4,1,4],[2,5,1.9,7],[3,1,0,11]]\n",
    "df = pd.DataFrame(d, index=['a', 'b', 'c', 'd'], columns=['A', 'B', 'C', 'D'])\n",
    "print(df)\n",
    "df['E'] = 5\n",
    "df['F'] = [1, 2, 3, 4]\n",
    "print(df)"
   ]
  },
  {
   "cell_type": "code",
   "execution_count": 71,
   "metadata": {
    "ExecuteTime": {
     "end_time": "2023-12-09T12:30:17.160112800Z",
     "start_time": "2023-12-09T12:30:17.096460300Z"
    }
   },
   "outputs": [
    {
     "name": "stdout",
     "output_type": "stream",
     "text": [
      "     A    B    C   D\n",
      "a  1.3  2.0  3.0   4\n",
      "b  2.0  4.0  1.0   4\n",
      "c  2.0  5.0  1.9   7\n",
      "d  3.0  1.0  0.0  11\n",
      "     A    B    C\n",
      "a  1.3  2.0  3.0\n",
      "b  2.0  4.0  1.0\n",
      "c  2.0  5.0  1.9\n",
      "d  3.0  1.0  0.0\n",
      "     A    B    C   D\n",
      "b  2.0  4.0  1.0   4\n",
      "d  3.0  1.0  0.0  11\n"
     ]
    }
   ],
   "source": [
    "# 删除数据框中的元素\n",
    "d=[[1.3,2.0,3,4],[2,4,1,4],[2,5,1.9,7],[3,1,0,11]]\n",
    "df = pd.DataFrame(d, index=['a', 'b', 'c', 'd'], columns=['A', 'B', 'C', 'D'])\n",
    "print(df)\n",
    "print(df.drop('D', axis=1, inplace=False))   # 删除数据框的列元素\n",
    "print(df.drop(['a', 'c'], axis=0))            # 输出数据框的行元素    "
   ]
  },
  {
   "cell_type": "markdown",
   "metadata": {},
   "source": [
    "### 描述分析DataFrame数据"
   ]
  },
  {
   "cell_type": "code",
   "execution_count": 72,
   "metadata": {
    "ExecuteTime": {
     "end_time": "2023-12-09T12:30:17.203732Z",
     "start_time": "2023-12-09T12:30:17.115911100Z"
    }
   },
   "outputs": [
    {
     "name": "stdout",
     "output_type": "stream",
     "text": [
      "     A    B    C   D\n",
      "a  1.3  2.0  3.0   4\n",
      "b  2.0  4.0  1.0   4\n",
      "c  2.0  5.0  1.9   7\n",
      "d  3.0  1.0  0.0  11\n",
      "a    2.575\n",
      "b    2.750\n",
      "c    3.975\n",
      "d    3.750\n",
      "dtype: float64\n"
     ]
    },
    {
     "data": {
      "text/plain": "2.0    2\n1.3    1\n3.0    1\nName: A, dtype: int64"
     },
     "execution_count": 72,
     "metadata": {},
     "output_type": "execute_result"
    }
   ],
   "source": [
    "import numpy as np\n",
    "d=[[1.3,2.0,3,4],[2,4,1,4],[2,5,1.9,7],[3,1,0,11]]\n",
    "df = pd.DataFrame(d, index=['a', 'b', 'c', 'd'], columns=['A', 'B', 'C', 'D'])\n",
    "print(df)\n",
    "print(np.mean(df, axis=1))\n",
    "df.mean(axis=1)\n",
    "df.std()\n",
    "df.describe()\n",
    "\n",
    "df['A'].value_counts()"
   ]
  },
  {
   "cell_type": "markdown",
   "metadata": {},
   "source": [
    "## 转换与处理时间序列数据"
   ]
  },
  {
   "cell_type": "code",
   "execution_count": 73,
   "metadata": {
    "ExecuteTime": {
     "end_time": "2023-12-09T12:30:17.205742300Z",
     "start_time": "2023-12-09T12:30:17.144654800Z"
    }
   },
   "outputs": [],
   "source": [
    "import pandas as pd"
   ]
  },
  {
   "cell_type": "code",
   "execution_count": 74,
   "metadata": {
    "ExecuteTime": {
     "end_time": "2023-12-09T12:30:17.208062900Z",
     "start_time": "2023-12-09T12:30:17.151832800Z"
    }
   },
   "outputs": [
    {
     "name": "stdout",
     "output_type": "stream",
     "text": [
      "object\n",
      "datetime64[ns]\n"
     ]
    }
   ],
   "source": [
    "order = pd.read_csv('C:/Users/VICTUS/OneDrive - stu.fynu.edu.cn/python数据分析与应用ZM/data/meal_order_info.csv', encoding='gbk')\n",
    "# print(order)\n",
    "print(order['lock_time'].dtypes)\n",
    "order['lock_time'] = pd.to_datetime(order['lock_time'])\n",
    "print(order['lock_time'].dtypes)"
   ]
  },
  {
   "cell_type": "code",
   "execution_count": 75,
   "metadata": {
    "ExecuteTime": {
     "end_time": "2023-12-09T12:30:17.218993800Z",
     "start_time": "2023-12-09T12:30:17.167943100Z"
    }
   },
   "outputs": [
    {
     "name": "stdout",
     "output_type": "stream",
     "text": [
      "DatetimeIndex(['2016-08-01 11:11:46', '2016-08-01 11:31:55',\n",
      "               '2016-08-01 12:54:37', '2016-08-01 13:08:20',\n",
      "               '2016-08-01 13:07:16', '2016-08-01 13:23:42',\n",
      "               '2016-08-01 13:34:18', '2016-08-01 13:50:16',\n",
      "               '2016-08-01 17:18:20', '2016-08-01 17:44:27',\n",
      "               ...\n",
      "               '2016-08-31 18:18:31', '2016-08-31 18:42:42',\n",
      "               '2016-08-31 18:57:56', '2016-08-31 19:19:31',\n",
      "               '2016-08-31 20:39:13', '2016-08-31 21:31:48',\n",
      "               '2016-08-31 21:56:12', '2016-08-31 21:33:34',\n",
      "               '2016-08-31 21:55:39', '2016-08-31 21:32:56'],\n",
      "              dtype='datetime64[ns]', name='lock_time', length=945, freq=None)\n",
      "PeriodIndex(['2016-08-01 11:00', '2016-08-01 11:00', '2016-08-01 12:00',\n",
      "             '2016-08-01 13:00', '2016-08-01 13:00', '2016-08-01 13:00',\n",
      "             '2016-08-01 13:00', '2016-08-01 13:00', '2016-08-01 17:00',\n",
      "             '2016-08-01 17:00',\n",
      "             ...\n",
      "             '2016-08-31 18:00', '2016-08-31 18:00', '2016-08-31 18:00',\n",
      "             '2016-08-31 19:00', '2016-08-31 20:00', '2016-08-31 21:00',\n",
      "             '2016-08-31 21:00', '2016-08-31 21:00', '2016-08-31 21:00',\n",
      "             '2016-08-31 21:00'],\n",
      "            dtype='period[H]', name='lock_time', length=945)\n"
     ]
    }
   ],
   "source": [
    "print(pd.DatetimeIndex(order['lock_time']))\n",
    "print(pd.PeriodIndex(order['lock_time'], freq='H'))"
   ]
  },
  {
   "cell_type": "code",
   "execution_count": 76,
   "metadata": {
    "ExecuteTime": {
     "end_time": "2023-12-09T12:30:17.221447600Z",
     "start_time": "2023-12-09T12:30:17.177698900Z"
    }
   },
   "outputs": [
    {
     "data": {
      "text/plain": "0     2016-08-01 11:11:46\n1     2016-08-01 11:31:55\n2     2016-08-01 12:54:37\n3     2016-08-01 13:08:20\n4     2016-08-01 13:07:16\n              ...        \n940   2016-08-31 21:31:48\n941   2016-08-31 21:56:12\n942   2016-08-31 21:33:34\n943   2016-08-31 21:55:39\n944   2016-08-31 21:32:56\nName: lock_time, Length: 945, dtype: datetime64[ns]"
     },
     "execution_count": 76,
     "metadata": {},
     "output_type": "execute_result"
    }
   ],
   "source": [
    "order['lock_time']"
   ]
  },
  {
   "cell_type": "code",
   "execution_count": 77,
   "metadata": {
    "ExecuteTime": {
     "end_time": "2023-12-09T12:30:17.290384700Z",
     "start_time": "2023-12-09T12:30:17.185005500Z"
    }
   },
   "outputs": [
    {
     "name": "stdout",
     "output_type": "stream",
     "text": [
      "2016\n",
      "0      2016.0\n",
      "1      2016.0\n",
      "2      2016.0\n",
      "3      2016.0\n",
      "4      2016.0\n",
      "        ...  \n",
      "940    2016.0\n",
      "941    2016.0\n",
      "942    2016.0\n",
      "943    2016.0\n",
      "944    2016.0\n",
      "Name: lock_time, Length: 945, dtype: float64\n",
      "0      8.0\n",
      "1      8.0\n",
      "2      8.0\n",
      "3      8.0\n",
      "4      8.0\n",
      "      ... \n",
      "940    8.0\n",
      "941    8.0\n",
      "942    8.0\n",
      "943    8.0\n",
      "944    8.0\n",
      "Name: lock_time, Length: 945, dtype: float64\n",
      "0      31.0\n",
      "1      31.0\n",
      "2      31.0\n",
      "3      31.0\n",
      "4      31.0\n",
      "       ... \n",
      "940    35.0\n",
      "941    35.0\n",
      "942    35.0\n",
      "943    35.0\n",
      "944    35.0\n",
      "Name: lock_time, Length: 945, dtype: float64\n"
     ]
    },
    {
     "name": "stderr",
     "output_type": "stream",
     "text": [
      "C:\\Users\\VICTUS\\AppData\\Local\\Temp\\ipykernel_25392\\2112048592.py:4: FutureWarning: Series.dt.weekofyear and Series.dt.week have been deprecated. Please use Series.dt.isocalendar().week instead.\n",
      "  print(order['lock_time'].dt.week)      # 获取数据周次信息\n"
     ]
    }
   ],
   "source": [
    "print(order['lock_time'][0].year)      # 获取数据年份信息\n",
    "print(order['lock_time'].dt.year)      # 获取数据年份信息\n",
    "print(order['lock_time'].dt.month)     # 获取数据月份信息\n",
    "print(order['lock_time'].dt.week)      # 获取数据周次信息"
   ]
  },
  {
   "cell_type": "code",
   "execution_count": 78,
   "metadata": {
    "ExecuteTime": {
     "end_time": "2023-12-09T12:30:17.306430200Z",
     "start_time": "2023-12-09T12:30:17.206740700Z"
    }
   },
   "outputs": [
    {
     "name": "stdout",
     "output_type": "stream",
     "text": [
      "0     2016-08-02 11:11:46\n",
      "1     2016-08-02 11:31:55\n",
      "2     2016-08-02 12:54:37\n",
      "3     2016-08-02 13:08:20\n",
      "4     2016-08-02 13:07:16\n",
      "              ...        \n",
      "940   2016-09-01 21:31:48\n",
      "941   2016-09-01 21:56:12\n",
      "942   2016-09-01 21:33:34\n",
      "943   2016-09-01 21:55:39\n",
      "944   2016-09-01 21:32:56\n",
      "Name: lock_time, Length: 945, dtype: datetime64[ns]\n",
      "0 days 00:20:09\n"
     ]
    }
   ],
   "source": [
    "print(order['lock_time'] + pd.Timedelta(days=1))       # 时间平移\n",
    "print(order['lock_time'][1] - order['lock_time'][0])   # 求时间差别"
   ]
  },
  {
   "cell_type": "markdown",
   "metadata": {},
   "source": [
    "## 使用分组聚合进行组内计算"
   ]
  },
  {
   "cell_type": "code",
   "execution_count": 79,
   "metadata": {
    "ExecuteTime": {
     "end_time": "2023-12-09T12:30:17.307431100Z",
     "start_time": "2023-12-09T12:30:17.210070800Z"
    }
   },
   "outputs": [],
   "source": [
    "import pandas as pd"
   ]
  },
  {
   "cell_type": "code",
   "execution_count": 80,
   "metadata": {
    "ExecuteTime": {
     "end_time": "2023-12-09T12:30:18.271211400Z",
     "start_time": "2023-12-09T12:30:17.215306400Z"
    }
   },
   "outputs": [
    {
     "data": {
      "text/plain": "   detail_id  order_id  dishes_id  logicprn_name  parent_class_name  \\\n0       2956       417     610062            NaN                NaN   \n1       2958       417     609957            NaN                NaN   \n2       2961       417     609950            NaN                NaN   \n3       2966       417     610038            NaN                NaN   \n4       2968       417     610003            NaN                NaN   \n\n                        dishes_name  itemis_add  counts  amounts  cost  \\\n0                              蒜蓉生蚝           0       1       49   NaN   \n1  蒙古烤羊腿_x000D_\\n_x000D_\\n_x000D_\\n           0       1       48   NaN   \n2                              大蒜苋菜           0       1       30   NaN   \n3                             芝麻烤紫菜           0       1       25   NaN   \n4                               蒜香包           0       1       13   NaN   \n\n     place_order_time  discount_amt  discount_reason  kick_back  add_inprice  \\\n0 2016-08-01 11:05:36           NaN              NaN        NaN            0   \n1 2016-08-01 11:07:07           NaN              NaN        NaN            0   \n2 2016-08-01 11:07:40           NaN              NaN        NaN            0   \n3 2016-08-01 11:11:11           NaN              NaN        NaN            0   \n4 2016-08-01 11:11:30           NaN              NaN        NaN            0   \n\n   add_info  bar_code      picture_file  emp_id  \n0       NaN       NaN  caipu/104001.jpg    1442  \n1       NaN       NaN  caipu/202003.jpg    1442  \n2       NaN       NaN  caipu/303001.jpg    1442  \n3       NaN       NaN  caipu/105002.jpg    1442  \n4       NaN       NaN  caipu/503002.jpg    1442  ",
      "text/html": "<div>\n<style scoped>\n    .dataframe tbody tr th:only-of-type {\n        vertical-align: middle;\n    }\n\n    .dataframe tbody tr th {\n        vertical-align: top;\n    }\n\n    .dataframe thead th {\n        text-align: right;\n    }\n</style>\n<table border=\"1\" class=\"dataframe\">\n  <thead>\n    <tr style=\"text-align: right;\">\n      <th></th>\n      <th>detail_id</th>\n      <th>order_id</th>\n      <th>dishes_id</th>\n      <th>logicprn_name</th>\n      <th>parent_class_name</th>\n      <th>dishes_name</th>\n      <th>itemis_add</th>\n      <th>counts</th>\n      <th>amounts</th>\n      <th>cost</th>\n      <th>place_order_time</th>\n      <th>discount_amt</th>\n      <th>discount_reason</th>\n      <th>kick_back</th>\n      <th>add_inprice</th>\n      <th>add_info</th>\n      <th>bar_code</th>\n      <th>picture_file</th>\n      <th>emp_id</th>\n    </tr>\n  </thead>\n  <tbody>\n    <tr>\n      <th>0</th>\n      <td>2956</td>\n      <td>417</td>\n      <td>610062</td>\n      <td>NaN</td>\n      <td>NaN</td>\n      <td>蒜蓉生蚝</td>\n      <td>0</td>\n      <td>1</td>\n      <td>49</td>\n      <td>NaN</td>\n      <td>2016-08-01 11:05:36</td>\n      <td>NaN</td>\n      <td>NaN</td>\n      <td>NaN</td>\n      <td>0</td>\n      <td>NaN</td>\n      <td>NaN</td>\n      <td>caipu/104001.jpg</td>\n      <td>1442</td>\n    </tr>\n    <tr>\n      <th>1</th>\n      <td>2958</td>\n      <td>417</td>\n      <td>609957</td>\n      <td>NaN</td>\n      <td>NaN</td>\n      <td>蒙古烤羊腿_x000D_\\n_x000D_\\n_x000D_\\n</td>\n      <td>0</td>\n      <td>1</td>\n      <td>48</td>\n      <td>NaN</td>\n      <td>2016-08-01 11:07:07</td>\n      <td>NaN</td>\n      <td>NaN</td>\n      <td>NaN</td>\n      <td>0</td>\n      <td>NaN</td>\n      <td>NaN</td>\n      <td>caipu/202003.jpg</td>\n      <td>1442</td>\n    </tr>\n    <tr>\n      <th>2</th>\n      <td>2961</td>\n      <td>417</td>\n      <td>609950</td>\n      <td>NaN</td>\n      <td>NaN</td>\n      <td>大蒜苋菜</td>\n      <td>0</td>\n      <td>1</td>\n      <td>30</td>\n      <td>NaN</td>\n      <td>2016-08-01 11:07:40</td>\n      <td>NaN</td>\n      <td>NaN</td>\n      <td>NaN</td>\n      <td>0</td>\n      <td>NaN</td>\n      <td>NaN</td>\n      <td>caipu/303001.jpg</td>\n      <td>1442</td>\n    </tr>\n    <tr>\n      <th>3</th>\n      <td>2966</td>\n      <td>417</td>\n      <td>610038</td>\n      <td>NaN</td>\n      <td>NaN</td>\n      <td>芝麻烤紫菜</td>\n      <td>0</td>\n      <td>1</td>\n      <td>25</td>\n      <td>NaN</td>\n      <td>2016-08-01 11:11:11</td>\n      <td>NaN</td>\n      <td>NaN</td>\n      <td>NaN</td>\n      <td>0</td>\n      <td>NaN</td>\n      <td>NaN</td>\n      <td>caipu/105002.jpg</td>\n      <td>1442</td>\n    </tr>\n    <tr>\n      <th>4</th>\n      <td>2968</td>\n      <td>417</td>\n      <td>610003</td>\n      <td>NaN</td>\n      <td>NaN</td>\n      <td>蒜香包</td>\n      <td>0</td>\n      <td>1</td>\n      <td>13</td>\n      <td>NaN</td>\n      <td>2016-08-01 11:11:30</td>\n      <td>NaN</td>\n      <td>NaN</td>\n      <td>NaN</td>\n      <td>0</td>\n      <td>NaN</td>\n      <td>NaN</td>\n      <td>caipu/503002.jpg</td>\n      <td>1442</td>\n    </tr>\n  </tbody>\n</table>\n</div>"
     },
     "execution_count": 80,
     "metadata": {},
     "output_type": "execute_result"
    }
   ],
   "source": [
    "detail = pd.read_excel('C:/Users/VICTUS/OneDrive - stu.fynu.edu.cn/python数据分析与应用ZM/data/meal_order_detail.xlsx')\n",
    "detail.head()"
   ]
  },
  {
   "cell_type": "code",
   "execution_count": 81,
   "metadata": {
    "ExecuteTime": {
     "end_time": "2023-12-09T12:30:18.278600100Z",
     "start_time": "2023-12-09T12:30:18.268435900Z"
    }
   },
   "outputs": [],
   "source": [
    "detail_group = detail[['order_id', 'counts', 'amounts']].groupby(by='order_id')    # 分组操作"
   ]
  },
  {
   "cell_type": "code",
   "execution_count": 82,
   "metadata": {
    "ExecuteTime": {
     "end_time": "2023-12-09T12:30:18.286841300Z",
     "start_time": "2023-12-09T12:30:18.275431400Z"
    }
   },
   "outputs": [
    {
     "data": {
      "text/plain": "            counts    amounts\norder_id                     \n137       1.500000  32.333333\n165       1.166667  52.944444\n166       1.400000  48.200000",
      "text/html": "<div>\n<style scoped>\n    .dataframe tbody tr th:only-of-type {\n        vertical-align: middle;\n    }\n\n    .dataframe tbody tr th {\n        vertical-align: top;\n    }\n\n    .dataframe thead th {\n        text-align: right;\n    }\n</style>\n<table border=\"1\" class=\"dataframe\">\n  <thead>\n    <tr style=\"text-align: right;\">\n      <th></th>\n      <th>counts</th>\n      <th>amounts</th>\n    </tr>\n    <tr>\n      <th>order_id</th>\n      <th></th>\n      <th></th>\n    </tr>\n  </thead>\n  <tbody>\n    <tr>\n      <th>137</th>\n      <td>1.500000</td>\n      <td>32.333333</td>\n    </tr>\n    <tr>\n      <th>165</th>\n      <td>1.166667</td>\n      <td>52.944444</td>\n    </tr>\n    <tr>\n      <th>166</th>\n      <td>1.400000</td>\n      <td>48.200000</td>\n    </tr>\n  </tbody>\n</table>\n</div>"
     },
     "execution_count": 82,
     "metadata": {},
     "output_type": "execute_result"
    }
   ],
   "source": [
    "detail_group.agg('mean').head(3)    # 对分组数据的所有列都执行mean操作"
   ]
  },
  {
   "cell_type": "code",
   "execution_count": 83,
   "metadata": {
    "ExecuteTime": {
     "end_time": "2023-12-09T12:30:18.330621200Z",
     "start_time": "2023-12-09T12:30:18.284369700Z"
    }
   },
   "outputs": [
    {
     "data": {
      "text/plain": "            counts        amounts     \n              mean sum       mean  sum\norder_id                              \n137       1.500000   9  32.333333  194\n165       1.166667  21  52.944444  953\n166       1.400000   7  48.200000  241",
      "text/html": "<div>\n<style scoped>\n    .dataframe tbody tr th:only-of-type {\n        vertical-align: middle;\n    }\n\n    .dataframe tbody tr th {\n        vertical-align: top;\n    }\n\n    .dataframe thead tr th {\n        text-align: left;\n    }\n\n    .dataframe thead tr:last-of-type th {\n        text-align: right;\n    }\n</style>\n<table border=\"1\" class=\"dataframe\">\n  <thead>\n    <tr>\n      <th></th>\n      <th colspan=\"2\" halign=\"left\">counts</th>\n      <th colspan=\"2\" halign=\"left\">amounts</th>\n    </tr>\n    <tr>\n      <th></th>\n      <th>mean</th>\n      <th>sum</th>\n      <th>mean</th>\n      <th>sum</th>\n    </tr>\n    <tr>\n      <th>order_id</th>\n      <th></th>\n      <th></th>\n      <th></th>\n      <th></th>\n    </tr>\n  </thead>\n  <tbody>\n    <tr>\n      <th>137</th>\n      <td>1.500000</td>\n      <td>9</td>\n      <td>32.333333</td>\n      <td>194</td>\n    </tr>\n    <tr>\n      <th>165</th>\n      <td>1.166667</td>\n      <td>21</td>\n      <td>52.944444</td>\n      <td>953</td>\n    </tr>\n    <tr>\n      <th>166</th>\n      <td>1.400000</td>\n      <td>7</td>\n      <td>48.200000</td>\n      <td>241</td>\n    </tr>\n  </tbody>\n</table>\n</div>"
     },
     "execution_count": 83,
     "metadata": {},
     "output_type": "execute_result"
    }
   ],
   "source": [
    "detail_group.agg(['mean', 'sum']).head(3)   # 对分组数据的所有列都执行mean和sum操作"
   ]
  },
  {
   "cell_type": "code",
   "execution_count": 84,
   "metadata": {
    "ExecuteTime": {
     "end_time": "2023-12-09T12:30:18.394598800Z",
     "start_time": "2023-12-09T12:30:18.302412300Z"
    }
   },
   "outputs": [
    {
     "data": {
      "text/plain": "            counts         amounts\n              mean amax        std\norder_id                          \n137       1.500000    4  35.200379\n165       1.166667    2  52.193613\n166       1.400000    2  41.829415",
      "text/html": "<div>\n<style scoped>\n    .dataframe tbody tr th:only-of-type {\n        vertical-align: middle;\n    }\n\n    .dataframe tbody tr th {\n        vertical-align: top;\n    }\n\n    .dataframe thead tr th {\n        text-align: left;\n    }\n\n    .dataframe thead tr:last-of-type th {\n        text-align: right;\n    }\n</style>\n<table border=\"1\" class=\"dataframe\">\n  <thead>\n    <tr>\n      <th></th>\n      <th colspan=\"2\" halign=\"left\">counts</th>\n      <th>amounts</th>\n    </tr>\n    <tr>\n      <th></th>\n      <th>mean</th>\n      <th>amax</th>\n      <th>std</th>\n    </tr>\n    <tr>\n      <th>order_id</th>\n      <th></th>\n      <th></th>\n      <th></th>\n    </tr>\n  </thead>\n  <tbody>\n    <tr>\n      <th>137</th>\n      <td>1.500000</td>\n      <td>4</td>\n      <td>35.200379</td>\n    </tr>\n    <tr>\n      <th>165</th>\n      <td>1.166667</td>\n      <td>2</td>\n      <td>52.193613</td>\n    </tr>\n    <tr>\n      <th>166</th>\n      <td>1.400000</td>\n      <td>2</td>\n      <td>41.829415</td>\n    </tr>\n  </tbody>\n</table>\n</div>"
     },
     "execution_count": 84,
     "metadata": {},
     "output_type": "execute_result"
    }
   ],
   "source": [
    "detail_group.agg({'counts': ['mean', np.max], 'amounts': 'std'}).head(3)   # 对分组数据的不同列执行不同操作"
   ]
  },
  {
   "cell_type": "code",
   "execution_count": 85,
   "metadata": {
    "ExecuteTime": {
     "end_time": "2023-12-09T12:30:18.465898600Z",
     "start_time": "2023-12-09T12:30:18.322489200Z"
    }
   },
   "outputs": [
    {
     "data": {
      "text/plain": "          counts\norder_id        \n137           81\n165          441\n166           49",
      "text/html": "<div>\n<style scoped>\n    .dataframe tbody tr th:only-of-type {\n        vertical-align: middle;\n    }\n\n    .dataframe tbody tr th {\n        vertical-align: top;\n    }\n\n    .dataframe thead th {\n        text-align: right;\n    }\n</style>\n<table border=\"1\" class=\"dataframe\">\n  <thead>\n    <tr style=\"text-align: right;\">\n      <th></th>\n      <th>counts</th>\n    </tr>\n    <tr>\n      <th>order_id</th>\n      <th></th>\n    </tr>\n  </thead>\n  <tbody>\n    <tr>\n      <th>137</th>\n      <td>81</td>\n    </tr>\n    <tr>\n      <th>165</th>\n      <td>441</td>\n    </tr>\n    <tr>\n      <th>166</th>\n      <td>49</td>\n    </tr>\n  </tbody>\n</table>\n</div>"
     },
     "execution_count": 85,
     "metadata": {},
     "output_type": "execute_result"
    }
   ],
   "source": [
    "detail_group.agg({'counts': lambda x: sum(x)**2}).head(3)   # 将自定义函数放入聚合操作中"
   ]
  },
  {
   "cell_type": "markdown",
   "metadata": {},
   "source": [
    "## 创建透视表与交叉表"
   ]
  },
  {
   "cell_type": "code",
   "execution_count": 86,
   "metadata": {
    "ExecuteTime": {
     "end_time": "2023-12-09T12:30:19.295378600Z",
     "start_time": "2023-12-09T12:30:18.344114100Z"
    }
   },
   "outputs": [
    {
     "data": {
      "text/plain": "   detail_id  order_id  dishes_id  logicprn_name  parent_class_name  \\\n0       2956       417     610062            NaN                NaN   \n1       2958       417     609957            NaN                NaN   \n2       2961       417     609950            NaN                NaN   \n3       2966       417     610038            NaN                NaN   \n4       2968       417     610003            NaN                NaN   \n\n                        dishes_name  itemis_add  counts  amounts  cost  \\\n0                              蒜蓉生蚝           0       1       49   NaN   \n1  蒙古烤羊腿_x000D_\\n_x000D_\\n_x000D_\\n           0       1       48   NaN   \n2                              大蒜苋菜           0       1       30   NaN   \n3                             芝麻烤紫菜           0       1       25   NaN   \n4                               蒜香包           0       1       13   NaN   \n\n     place_order_time  discount_amt  discount_reason  kick_back  add_inprice  \\\n0 2016-08-01 11:05:36           NaN              NaN        NaN            0   \n1 2016-08-01 11:07:07           NaN              NaN        NaN            0   \n2 2016-08-01 11:07:40           NaN              NaN        NaN            0   \n3 2016-08-01 11:11:11           NaN              NaN        NaN            0   \n4 2016-08-01 11:11:30           NaN              NaN        NaN            0   \n\n   add_info  bar_code      picture_file  emp_id  \n0       NaN       NaN  caipu/104001.jpg    1442  \n1       NaN       NaN  caipu/202003.jpg    1442  \n2       NaN       NaN  caipu/303001.jpg    1442  \n3       NaN       NaN  caipu/105002.jpg    1442  \n4       NaN       NaN  caipu/503002.jpg    1442  ",
      "text/html": "<div>\n<style scoped>\n    .dataframe tbody tr th:only-of-type {\n        vertical-align: middle;\n    }\n\n    .dataframe tbody tr th {\n        vertical-align: top;\n    }\n\n    .dataframe thead th {\n        text-align: right;\n    }\n</style>\n<table border=\"1\" class=\"dataframe\">\n  <thead>\n    <tr style=\"text-align: right;\">\n      <th></th>\n      <th>detail_id</th>\n      <th>order_id</th>\n      <th>dishes_id</th>\n      <th>logicprn_name</th>\n      <th>parent_class_name</th>\n      <th>dishes_name</th>\n      <th>itemis_add</th>\n      <th>counts</th>\n      <th>amounts</th>\n      <th>cost</th>\n      <th>place_order_time</th>\n      <th>discount_amt</th>\n      <th>discount_reason</th>\n      <th>kick_back</th>\n      <th>add_inprice</th>\n      <th>add_info</th>\n      <th>bar_code</th>\n      <th>picture_file</th>\n      <th>emp_id</th>\n    </tr>\n  </thead>\n  <tbody>\n    <tr>\n      <th>0</th>\n      <td>2956</td>\n      <td>417</td>\n      <td>610062</td>\n      <td>NaN</td>\n      <td>NaN</td>\n      <td>蒜蓉生蚝</td>\n      <td>0</td>\n      <td>1</td>\n      <td>49</td>\n      <td>NaN</td>\n      <td>2016-08-01 11:05:36</td>\n      <td>NaN</td>\n      <td>NaN</td>\n      <td>NaN</td>\n      <td>0</td>\n      <td>NaN</td>\n      <td>NaN</td>\n      <td>caipu/104001.jpg</td>\n      <td>1442</td>\n    </tr>\n    <tr>\n      <th>1</th>\n      <td>2958</td>\n      <td>417</td>\n      <td>609957</td>\n      <td>NaN</td>\n      <td>NaN</td>\n      <td>蒙古烤羊腿_x000D_\\n_x000D_\\n_x000D_\\n</td>\n      <td>0</td>\n      <td>1</td>\n      <td>48</td>\n      <td>NaN</td>\n      <td>2016-08-01 11:07:07</td>\n      <td>NaN</td>\n      <td>NaN</td>\n      <td>NaN</td>\n      <td>0</td>\n      <td>NaN</td>\n      <td>NaN</td>\n      <td>caipu/202003.jpg</td>\n      <td>1442</td>\n    </tr>\n    <tr>\n      <th>2</th>\n      <td>2961</td>\n      <td>417</td>\n      <td>609950</td>\n      <td>NaN</td>\n      <td>NaN</td>\n      <td>大蒜苋菜</td>\n      <td>0</td>\n      <td>1</td>\n      <td>30</td>\n      <td>NaN</td>\n      <td>2016-08-01 11:07:40</td>\n      <td>NaN</td>\n      <td>NaN</td>\n      <td>NaN</td>\n      <td>0</td>\n      <td>NaN</td>\n      <td>NaN</td>\n      <td>caipu/303001.jpg</td>\n      <td>1442</td>\n    </tr>\n    <tr>\n      <th>3</th>\n      <td>2966</td>\n      <td>417</td>\n      <td>610038</td>\n      <td>NaN</td>\n      <td>NaN</td>\n      <td>芝麻烤紫菜</td>\n      <td>0</td>\n      <td>1</td>\n      <td>25</td>\n      <td>NaN</td>\n      <td>2016-08-01 11:11:11</td>\n      <td>NaN</td>\n      <td>NaN</td>\n      <td>NaN</td>\n      <td>0</td>\n      <td>NaN</td>\n      <td>NaN</td>\n      <td>caipu/105002.jpg</td>\n      <td>1442</td>\n    </tr>\n    <tr>\n      <th>4</th>\n      <td>2968</td>\n      <td>417</td>\n      <td>610003</td>\n      <td>NaN</td>\n      <td>NaN</td>\n      <td>蒜香包</td>\n      <td>0</td>\n      <td>1</td>\n      <td>13</td>\n      <td>NaN</td>\n      <td>2016-08-01 11:11:30</td>\n      <td>NaN</td>\n      <td>NaN</td>\n      <td>NaN</td>\n      <td>0</td>\n      <td>NaN</td>\n      <td>NaN</td>\n      <td>caipu/503002.jpg</td>\n      <td>1442</td>\n    </tr>\n  </tbody>\n</table>\n</div>"
     },
     "execution_count": 86,
     "metadata": {},
     "output_type": "execute_result"
    }
   ],
   "source": [
    "import pandas as pd\n",
    "detail = pd.read_excel('C:/Users/VICTUS/OneDrive - stu.fynu.edu.cn/python数据分析与应用ZM/data/meal_order_detail.xlsx')\n",
    "detail.head()"
   ]
  },
  {
   "cell_type": "code",
   "execution_count": 87,
   "metadata": {
    "ExecuteTime": {
     "end_time": "2023-12-09T12:30:19.306202300Z",
     "start_time": "2023-12-09T12:30:19.291378800Z"
    }
   },
   "outputs": [
    {
     "data": {
      "text/plain": "          amounts  counts\norder_id                 \n137           194       9\n165           953      21\n166           241       7",
      "text/html": "<div>\n<style scoped>\n    .dataframe tbody tr th:only-of-type {\n        vertical-align: middle;\n    }\n\n    .dataframe tbody tr th {\n        vertical-align: top;\n    }\n\n    .dataframe thead th {\n        text-align: right;\n    }\n</style>\n<table border=\"1\" class=\"dataframe\">\n  <thead>\n    <tr style=\"text-align: right;\">\n      <th></th>\n      <th>amounts</th>\n      <th>counts</th>\n    </tr>\n    <tr>\n      <th>order_id</th>\n      <th></th>\n      <th></th>\n    </tr>\n  </thead>\n  <tbody>\n    <tr>\n      <th>137</th>\n      <td>194</td>\n      <td>9</td>\n    </tr>\n    <tr>\n      <th>165</th>\n      <td>953</td>\n      <td>21</td>\n    </tr>\n    <tr>\n      <th>166</th>\n      <td>241</td>\n      <td>7</td>\n    </tr>\n  </tbody>\n</table>\n</div>"
     },
     "execution_count": 87,
     "metadata": {},
     "output_type": "execute_result"
    }
   ],
   "source": [
    "pd.pivot_table(detail[['order_id', 'counts', 'amounts']], index='order_id', aggfunc='sum').head(3)"
   ]
  },
  {
   "cell_type": "code",
   "execution_count": 88,
   "metadata": {
    "ExecuteTime": {
     "end_time": "2023-12-09T12:30:19.503385800Z",
     "start_time": "2023-12-09T12:30:19.309223900Z"
    }
   },
   "outputs": [
    {
     "data": {
      "text/plain": "dishes_name   42度海之蓝   北冰洋汽水   38度剑南春   50度古井贡酒  52度泸州老窖   53度茅台  一品香酥藕  三丝鳝鱼  \\\norder_id                                                                        \n137                0        0        0        0         0      0      0     0   \n165                0        0        1        0         0      0      1     0   \n166                0        0        0        0         0      0      0     0   \n171                0        0        0        0         0      0      0     0   \n177                0        0        0        0         0      0      0     0   \n\ndishes_name  三色凉拌手撕兔  不加一滴油的酸奶蛋糕  ...  香辣腐乳炒虾  香酥两吃大虾  鱼香肉丝拌面  鲜美鳝鱼  鸡蛋、肉末肠粉  \\\norder_id                          ...                                          \n137                0           0  ...       0       0       0     0        0   \n165                0           0  ...       0       0       0     0        0   \n166                0           0  ...       0       0       0     0        0   \n171                0           0  ...       0       0       0     0        0   \n177                0           0  ...       0       0       0     0        0   \n\ndishes_name  麻辣小龙虾  黄尾袋鼠西拉子红葡萄酒  黄油曲奇饼干  黄花菜炒木耳  黑米恋上葡萄  \norder_id                                                 \n137              1            0       0       0       0  \n165              0            0       0       1       0  \n166              0            0       0       0       0  \n171              0            0       0       0       0  \n177              0            0       0       0       0  \n\n[5 rows x 154 columns]",
      "text/html": "<div>\n<style scoped>\n    .dataframe tbody tr th:only-of-type {\n        vertical-align: middle;\n    }\n\n    .dataframe tbody tr th {\n        vertical-align: top;\n    }\n\n    .dataframe thead th {\n        text-align: right;\n    }\n</style>\n<table border=\"1\" class=\"dataframe\">\n  <thead>\n    <tr style=\"text-align: right;\">\n      <th>dishes_name</th>\n      <th>42度海之蓝</th>\n      <th>北冰洋汽水</th>\n      <th>38度剑南春</th>\n      <th>50度古井贡酒</th>\n      <th>52度泸州老窖</th>\n      <th>53度茅台</th>\n      <th>一品香酥藕</th>\n      <th>三丝鳝鱼</th>\n      <th>三色凉拌手撕兔</th>\n      <th>不加一滴油的酸奶蛋糕</th>\n      <th>...</th>\n      <th>香辣腐乳炒虾</th>\n      <th>香酥两吃大虾</th>\n      <th>鱼香肉丝拌面</th>\n      <th>鲜美鳝鱼</th>\n      <th>鸡蛋、肉末肠粉</th>\n      <th>麻辣小龙虾</th>\n      <th>黄尾袋鼠西拉子红葡萄酒</th>\n      <th>黄油曲奇饼干</th>\n      <th>黄花菜炒木耳</th>\n      <th>黑米恋上葡萄</th>\n    </tr>\n    <tr>\n      <th>order_id</th>\n      <th></th>\n      <th></th>\n      <th></th>\n      <th></th>\n      <th></th>\n      <th></th>\n      <th></th>\n      <th></th>\n      <th></th>\n      <th></th>\n      <th></th>\n      <th></th>\n      <th></th>\n      <th></th>\n      <th></th>\n      <th></th>\n      <th></th>\n      <th></th>\n      <th></th>\n      <th></th>\n      <th></th>\n    </tr>\n  </thead>\n  <tbody>\n    <tr>\n      <th>137</th>\n      <td>0</td>\n      <td>0</td>\n      <td>0</td>\n      <td>0</td>\n      <td>0</td>\n      <td>0</td>\n      <td>0</td>\n      <td>0</td>\n      <td>0</td>\n      <td>0</td>\n      <td>...</td>\n      <td>0</td>\n      <td>0</td>\n      <td>0</td>\n      <td>0</td>\n      <td>0</td>\n      <td>1</td>\n      <td>0</td>\n      <td>0</td>\n      <td>0</td>\n      <td>0</td>\n    </tr>\n    <tr>\n      <th>165</th>\n      <td>0</td>\n      <td>0</td>\n      <td>1</td>\n      <td>0</td>\n      <td>0</td>\n      <td>0</td>\n      <td>1</td>\n      <td>0</td>\n      <td>0</td>\n      <td>0</td>\n      <td>...</td>\n      <td>0</td>\n      <td>0</td>\n      <td>0</td>\n      <td>0</td>\n      <td>0</td>\n      <td>0</td>\n      <td>0</td>\n      <td>0</td>\n      <td>1</td>\n      <td>0</td>\n    </tr>\n    <tr>\n      <th>166</th>\n      <td>0</td>\n      <td>0</td>\n      <td>0</td>\n      <td>0</td>\n      <td>0</td>\n      <td>0</td>\n      <td>0</td>\n      <td>0</td>\n      <td>0</td>\n      <td>0</td>\n      <td>...</td>\n      <td>0</td>\n      <td>0</td>\n      <td>0</td>\n      <td>0</td>\n      <td>0</td>\n      <td>0</td>\n      <td>0</td>\n      <td>0</td>\n      <td>0</td>\n      <td>0</td>\n    </tr>\n    <tr>\n      <th>171</th>\n      <td>0</td>\n      <td>0</td>\n      <td>0</td>\n      <td>0</td>\n      <td>0</td>\n      <td>0</td>\n      <td>0</td>\n      <td>0</td>\n      <td>0</td>\n      <td>0</td>\n      <td>...</td>\n      <td>0</td>\n      <td>0</td>\n      <td>0</td>\n      <td>0</td>\n      <td>0</td>\n      <td>0</td>\n      <td>0</td>\n      <td>0</td>\n      <td>0</td>\n      <td>0</td>\n    </tr>\n    <tr>\n      <th>177</th>\n      <td>0</td>\n      <td>0</td>\n      <td>0</td>\n      <td>0</td>\n      <td>0</td>\n      <td>0</td>\n      <td>0</td>\n      <td>0</td>\n      <td>0</td>\n      <td>0</td>\n      <td>...</td>\n      <td>0</td>\n      <td>0</td>\n      <td>0</td>\n      <td>0</td>\n      <td>0</td>\n      <td>0</td>\n      <td>0</td>\n      <td>0</td>\n      <td>0</td>\n      <td>0</td>\n    </tr>\n  </tbody>\n</table>\n<p>5 rows × 154 columns</p>\n</div>"
     },
     "execution_count": 88,
     "metadata": {},
     "output_type": "execute_result"
    }
   ],
   "source": [
    "pd.pivot_table(detail[['order_id', 'dishes_name', 'counts']], index='order_id', columns='dishes_name',aggfunc='sum').head(3)\n",
    "pd.pivot_table(detail[['order_id', 'dishes_name', 'counts']], index='order_id', columns='dishes_name',values='counts', fill_value=0).head()"
   ]
  },
  {
   "cell_type": "code",
   "execution_count": 89,
   "metadata": {
    "ExecuteTime": {
     "end_time": "2023-12-09T12:30:19.555437200Z",
     "start_time": "2023-12-09T12:30:19.380625100Z"
    }
   },
   "outputs": [
    {
     "data": {
      "text/plain": "dishes_name   42度海之蓝   北冰洋汽水   38度剑南春   50度古井贡酒  52度泸州老窖   53度茅台  一品香酥藕  三丝鳝鱼  \\\norder_id                                                                        \n137                0        0        0        0         0      0      0     0   \n165                0        0        1        0         0      0      1     0   \n166                0        0        0        0         0      0      0     0   \n\ndishes_name  三色凉拌手撕兔  不加一滴油的酸奶蛋糕  ...  香辣腐乳炒虾  香酥两吃大虾  鱼香肉丝拌面  鲜美鳝鱼  鸡蛋、肉末肠粉  \\\norder_id                          ...                                          \n137                0           0  ...       0       0       0     0        0   \n165                0           0  ...       0       0       0     0        0   \n166                0           0  ...       0       0       0     0        0   \n\ndishes_name  麻辣小龙虾  黄尾袋鼠西拉子红葡萄酒  黄油曲奇饼干  黄花菜炒木耳  黑米恋上葡萄  \norder_id                                                 \n137              1            0       0       0       0  \n165              0            0       0       1       0  \n166              0            0       0       0       0  \n\n[3 rows x 154 columns]",
      "text/html": "<div>\n<style scoped>\n    .dataframe tbody tr th:only-of-type {\n        vertical-align: middle;\n    }\n\n    .dataframe tbody tr th {\n        vertical-align: top;\n    }\n\n    .dataframe thead th {\n        text-align: right;\n    }\n</style>\n<table border=\"1\" class=\"dataframe\">\n  <thead>\n    <tr style=\"text-align: right;\">\n      <th>dishes_name</th>\n      <th>42度海之蓝</th>\n      <th>北冰洋汽水</th>\n      <th>38度剑南春</th>\n      <th>50度古井贡酒</th>\n      <th>52度泸州老窖</th>\n      <th>53度茅台</th>\n      <th>一品香酥藕</th>\n      <th>三丝鳝鱼</th>\n      <th>三色凉拌手撕兔</th>\n      <th>不加一滴油的酸奶蛋糕</th>\n      <th>...</th>\n      <th>香辣腐乳炒虾</th>\n      <th>香酥两吃大虾</th>\n      <th>鱼香肉丝拌面</th>\n      <th>鲜美鳝鱼</th>\n      <th>鸡蛋、肉末肠粉</th>\n      <th>麻辣小龙虾</th>\n      <th>黄尾袋鼠西拉子红葡萄酒</th>\n      <th>黄油曲奇饼干</th>\n      <th>黄花菜炒木耳</th>\n      <th>黑米恋上葡萄</th>\n    </tr>\n    <tr>\n      <th>order_id</th>\n      <th></th>\n      <th></th>\n      <th></th>\n      <th></th>\n      <th></th>\n      <th></th>\n      <th></th>\n      <th></th>\n      <th></th>\n      <th></th>\n      <th></th>\n      <th></th>\n      <th></th>\n      <th></th>\n      <th></th>\n      <th></th>\n      <th></th>\n      <th></th>\n      <th></th>\n      <th></th>\n      <th></th>\n    </tr>\n  </thead>\n  <tbody>\n    <tr>\n      <th>137</th>\n      <td>0</td>\n      <td>0</td>\n      <td>0</td>\n      <td>0</td>\n      <td>0</td>\n      <td>0</td>\n      <td>0</td>\n      <td>0</td>\n      <td>0</td>\n      <td>0</td>\n      <td>...</td>\n      <td>0</td>\n      <td>0</td>\n      <td>0</td>\n      <td>0</td>\n      <td>0</td>\n      <td>1</td>\n      <td>0</td>\n      <td>0</td>\n      <td>0</td>\n      <td>0</td>\n    </tr>\n    <tr>\n      <th>165</th>\n      <td>0</td>\n      <td>0</td>\n      <td>1</td>\n      <td>0</td>\n      <td>0</td>\n      <td>0</td>\n      <td>1</td>\n      <td>0</td>\n      <td>0</td>\n      <td>0</td>\n      <td>...</td>\n      <td>0</td>\n      <td>0</td>\n      <td>0</td>\n      <td>0</td>\n      <td>0</td>\n      <td>0</td>\n      <td>0</td>\n      <td>0</td>\n      <td>1</td>\n      <td>0</td>\n    </tr>\n    <tr>\n      <th>166</th>\n      <td>0</td>\n      <td>0</td>\n      <td>0</td>\n      <td>0</td>\n      <td>0</td>\n      <td>0</td>\n      <td>0</td>\n      <td>0</td>\n      <td>0</td>\n      <td>0</td>\n      <td>...</td>\n      <td>0</td>\n      <td>0</td>\n      <td>0</td>\n      <td>0</td>\n      <td>0</td>\n      <td>0</td>\n      <td>0</td>\n      <td>0</td>\n      <td>0</td>\n      <td>0</td>\n    </tr>\n  </tbody>\n</table>\n<p>3 rows × 154 columns</p>\n</div>"
     },
     "execution_count": 89,
     "metadata": {},
     "output_type": "execute_result"
    }
   ],
   "source": [
    "pd.crosstab(index=detail['order_id'], columns=detail['dishes_name']).head(3)"
   ]
  },
  {
   "cell_type": "code",
   "execution_count": 90,
   "metadata": {
    "ExecuteTime": {
     "end_time": "2023-12-09T12:30:19.653332Z",
     "start_time": "2023-12-09T12:30:19.529915500Z"
    }
   },
   "outputs": [
    {
     "data": {
      "text/plain": "dishes_name   42度海之蓝   北冰洋汽水   38度剑南春   50度古井贡酒  52度泸州老窖   53度茅台  一品香酥藕  三丝鳝鱼  \\\norder_id                                                                        \n137              0.0      0.0      0.0      0.0       0.0    0.0    0.0   0.0   \n165              0.0      0.0      1.0      0.0       0.0    0.0    1.0   0.0   \n166              0.0      0.0      0.0      0.0       0.0    0.0    0.0   0.0   \n\ndishes_name  三色凉拌手撕兔  不加一滴油的酸奶蛋糕  ...  香辣腐乳炒虾  香酥两吃大虾  鱼香肉丝拌面  鲜美鳝鱼  鸡蛋、肉末肠粉  \\\norder_id                          ...                                          \n137              0.0         0.0  ...     0.0     0.0     0.0   0.0      0.0   \n165              0.0         0.0  ...     0.0     0.0     0.0   0.0      0.0   \n166              0.0         0.0  ...     0.0     0.0     0.0   0.0      0.0   \n\ndishes_name  麻辣小龙虾  黄尾袋鼠西拉子红葡萄酒  黄油曲奇饼干  黄花菜炒木耳  黑米恋上葡萄  \norder_id                                                 \n137            1.0          0.0     0.0     0.0     0.0  \n165            0.0          0.0     0.0     1.0     0.0  \n166            0.0          0.0     0.0     0.0     0.0  \n\n[3 rows x 154 columns]",
      "text/html": "<div>\n<style scoped>\n    .dataframe tbody tr th:only-of-type {\n        vertical-align: middle;\n    }\n\n    .dataframe tbody tr th {\n        vertical-align: top;\n    }\n\n    .dataframe thead th {\n        text-align: right;\n    }\n</style>\n<table border=\"1\" class=\"dataframe\">\n  <thead>\n    <tr style=\"text-align: right;\">\n      <th>dishes_name</th>\n      <th>42度海之蓝</th>\n      <th>北冰洋汽水</th>\n      <th>38度剑南春</th>\n      <th>50度古井贡酒</th>\n      <th>52度泸州老窖</th>\n      <th>53度茅台</th>\n      <th>一品香酥藕</th>\n      <th>三丝鳝鱼</th>\n      <th>三色凉拌手撕兔</th>\n      <th>不加一滴油的酸奶蛋糕</th>\n      <th>...</th>\n      <th>香辣腐乳炒虾</th>\n      <th>香酥两吃大虾</th>\n      <th>鱼香肉丝拌面</th>\n      <th>鲜美鳝鱼</th>\n      <th>鸡蛋、肉末肠粉</th>\n      <th>麻辣小龙虾</th>\n      <th>黄尾袋鼠西拉子红葡萄酒</th>\n      <th>黄油曲奇饼干</th>\n      <th>黄花菜炒木耳</th>\n      <th>黑米恋上葡萄</th>\n    </tr>\n    <tr>\n      <th>order_id</th>\n      <th></th>\n      <th></th>\n      <th></th>\n      <th></th>\n      <th></th>\n      <th></th>\n      <th></th>\n      <th></th>\n      <th></th>\n      <th></th>\n      <th></th>\n      <th></th>\n      <th></th>\n      <th></th>\n      <th></th>\n      <th></th>\n      <th></th>\n      <th></th>\n      <th></th>\n      <th></th>\n      <th></th>\n    </tr>\n  </thead>\n  <tbody>\n    <tr>\n      <th>137</th>\n      <td>0.0</td>\n      <td>0.0</td>\n      <td>0.0</td>\n      <td>0.0</td>\n      <td>0.0</td>\n      <td>0.0</td>\n      <td>0.0</td>\n      <td>0.0</td>\n      <td>0.0</td>\n      <td>0.0</td>\n      <td>...</td>\n      <td>0.0</td>\n      <td>0.0</td>\n      <td>0.0</td>\n      <td>0.0</td>\n      <td>0.0</td>\n      <td>1.0</td>\n      <td>0.0</td>\n      <td>0.0</td>\n      <td>0.0</td>\n      <td>0.0</td>\n    </tr>\n    <tr>\n      <th>165</th>\n      <td>0.0</td>\n      <td>0.0</td>\n      <td>1.0</td>\n      <td>0.0</td>\n      <td>0.0</td>\n      <td>0.0</td>\n      <td>1.0</td>\n      <td>0.0</td>\n      <td>0.0</td>\n      <td>0.0</td>\n      <td>...</td>\n      <td>0.0</td>\n      <td>0.0</td>\n      <td>0.0</td>\n      <td>0.0</td>\n      <td>0.0</td>\n      <td>0.0</td>\n      <td>0.0</td>\n      <td>0.0</td>\n      <td>1.0</td>\n      <td>0.0</td>\n    </tr>\n    <tr>\n      <th>166</th>\n      <td>0.0</td>\n      <td>0.0</td>\n      <td>0.0</td>\n      <td>0.0</td>\n      <td>0.0</td>\n      <td>0.0</td>\n      <td>0.0</td>\n      <td>0.0</td>\n      <td>0.0</td>\n      <td>0.0</td>\n      <td>...</td>\n      <td>0.0</td>\n      <td>0.0</td>\n      <td>0.0</td>\n      <td>0.0</td>\n      <td>0.0</td>\n      <td>0.0</td>\n      <td>0.0</td>\n      <td>0.0</td>\n      <td>0.0</td>\n      <td>0.0</td>\n    </tr>\n  </tbody>\n</table>\n<p>3 rows × 154 columns</p>\n</div>"
     },
     "execution_count": 90,
     "metadata": {},
     "output_type": "execute_result"
    }
   ],
   "source": [
    "pd.crosstab(index=detail['order_id'], columns=detail['dishes_name'], values=detail['counts'], aggfunc='sum').fillna(0).head(3)"
   ]
  }
 ],
 "metadata": {
  "kernelspec": {
   "display_name": "Python 3",
   "language": "python",
   "name": "python3"
  },
  "language_info": {
   "codemirror_mode": {
    "name": "ipython",
    "version": 3
   },
   "file_extension": ".py",
   "mimetype": "text/x-python",
   "name": "python",
   "nbconvert_exporter": "python",
   "pygments_lexer": "ipython3",
   "version": "3.8.5"
  }
 },
 "nbformat": 4,
 "nbformat_minor": 4
}
