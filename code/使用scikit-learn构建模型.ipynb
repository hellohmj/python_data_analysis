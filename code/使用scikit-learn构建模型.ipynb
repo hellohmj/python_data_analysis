{
 "cells": [
  {
   "cell_type": "markdown",
   "metadata": {},
   "source": [
    "## 使用sklearn转换器处理数据"
   ]
  },
  {
   "cell_type": "markdown",
   "metadata": {},
   "source": [
    "#### 加载datasets模块中数据集"
   ]
  },
  {
   "cell_type": "code",
   "execution_count": 4,
   "metadata": {},
   "outputs": [
    {
     "data": {
      "text/plain": [
       "dict_keys(['data', 'target', 'frame', 'target_names', 'DESCR', 'feature_names', 'filename'])"
      ]
     },
     "execution_count": 4,
     "metadata": {},
     "output_type": "execute_result"
    }
   ],
   "source": [
    "from sklearn.datasets import load_breast_cancer     # 导入乳腺癌患者数据\n",
    "cancer = load_breast_cancer()     # 实例化对象\n",
    "cancer.keys()"
   ]
  },
  {
   "cell_type": "code",
   "execution_count": 5,
   "metadata": {
    "scrolled": false
   },
   "outputs": [
    {
     "name": "stdout",
     "output_type": "stream",
     "text": [
      ".. _breast_cancer_dataset:\n",
      "\n",
      "Breast cancer wisconsin (diagnostic) dataset\n",
      "--------------------------------------------\n",
      "\n",
      "**Data Set Characteristics:**\n",
      "\n",
      "    :Number of Instances: 569\n",
      "\n",
      "    :Number of Attributes: 30 numeric, predictive attributes and the class\n",
      "\n",
      "    :Attribute Information:\n",
      "        - radius (mean of distances from center to points on the perimeter)\n",
      "        - texture (standard deviation of gray-scale values)\n",
      "        - perimeter\n",
      "        - area\n",
      "        - smoothness (local variation in radius lengths)\n",
      "        - compactness (perimeter^2 / area - 1.0)\n",
      "        - concavity (severity of concave portions of the contour)\n",
      "        - concave points (number of concave portions of the contour)\n",
      "        - symmetry\n",
      "        - fractal dimension (\"coastline approximation\" - 1)\n",
      "\n",
      "        The mean, standard error, and \"worst\" or largest (mean of the three\n",
      "        worst/largest values) of these features were computed for each image,\n",
      "        resulting in 30 features.  For instance, field 0 is Mean Radius, field\n",
      "        10 is Radius SE, field 20 is Worst Radius.\n",
      "\n",
      "        - class:\n",
      "                - WDBC-Malignant\n",
      "                - WDBC-Benign\n",
      "\n",
      "    :Summary Statistics:\n",
      "\n",
      "    ===================================== ====== ======\n",
      "                                           Min    Max\n",
      "    ===================================== ====== ======\n",
      "    radius (mean):                        6.981  28.11\n",
      "    texture (mean):                       9.71   39.28\n",
      "    perimeter (mean):                     43.79  188.5\n",
      "    area (mean):                          143.5  2501.0\n",
      "    smoothness (mean):                    0.053  0.163\n",
      "    compactness (mean):                   0.019  0.345\n",
      "    concavity (mean):                     0.0    0.427\n",
      "    concave points (mean):                0.0    0.201\n",
      "    symmetry (mean):                      0.106  0.304\n",
      "    fractal dimension (mean):             0.05   0.097\n",
      "    radius (standard error):              0.112  2.873\n",
      "    texture (standard error):             0.36   4.885\n",
      "    perimeter (standard error):           0.757  21.98\n",
      "    area (standard error):                6.802  542.2\n",
      "    smoothness (standard error):          0.002  0.031\n",
      "    compactness (standard error):         0.002  0.135\n",
      "    concavity (standard error):           0.0    0.396\n",
      "    concave points (standard error):      0.0    0.053\n",
      "    symmetry (standard error):            0.008  0.079\n",
      "    fractal dimension (standard error):   0.001  0.03\n",
      "    radius (worst):                       7.93   36.04\n",
      "    texture (worst):                      12.02  49.54\n",
      "    perimeter (worst):                    50.41  251.2\n",
      "    area (worst):                         185.2  4254.0\n",
      "    smoothness (worst):                   0.071  0.223\n",
      "    compactness (worst):                  0.027  1.058\n",
      "    concavity (worst):                    0.0    1.252\n",
      "    concave points (worst):               0.0    0.291\n",
      "    symmetry (worst):                     0.156  0.664\n",
      "    fractal dimension (worst):            0.055  0.208\n",
      "    ===================================== ====== ======\n",
      "\n",
      "    :Missing Attribute Values: None\n",
      "\n",
      "    :Class Distribution: 212 - Malignant, 357 - Benign\n",
      "\n",
      "    :Creator:  Dr. William H. Wolberg, W. Nick Street, Olvi L. Mangasarian\n",
      "\n",
      "    :Donor: Nick Street\n",
      "\n",
      "    :Date: November, 1995\n",
      "\n",
      "This is a copy of UCI ML Breast Cancer Wisconsin (Diagnostic) datasets.\n",
      "https://goo.gl/U2Uwz2\n",
      "\n",
      "Features are computed from a digitized image of a fine needle\n",
      "aspirate (FNA) of a breast mass.  They describe\n",
      "characteristics of the cell nuclei present in the image.\n",
      "\n",
      "Separating plane described above was obtained using\n",
      "Multisurface Method-Tree (MSM-T) [K. P. Bennett, \"Decision Tree\n",
      "Construction Via Linear Programming.\" Proceedings of the 4th\n",
      "Midwest Artificial Intelligence and Cognitive Science Society,\n",
      "pp. 97-101, 1992], a classification method which uses linear\n",
      "programming to construct a decision tree.  Relevant features\n",
      "were selected using an exhaustive search in the space of 1-4\n",
      "features and 1-3 separating planes.\n",
      "\n",
      "The actual linear program used to obtain the separating plane\n",
      "in the 3-dimensional space is that described in:\n",
      "[K. P. Bennett and O. L. Mangasarian: \"Robust Linear\n",
      "Programming Discrimination of Two Linearly Inseparable Sets\",\n",
      "Optimization Methods and Software 1, 1992, 23-34].\n",
      "\n",
      "This database is also available through the UW CS ftp server:\n",
      "\n",
      "ftp ftp.cs.wisc.edu\n",
      "cd math-prog/cpo-dataset/machine-learn/WDBC/\n",
      "\n",
      ".. topic:: References\n",
      "\n",
      "   - W.N. Street, W.H. Wolberg and O.L. Mangasarian. Nuclear feature extraction \n",
      "     for breast tumor diagnosis. IS&T/SPIE 1993 International Symposium on \n",
      "     Electronic Imaging: Science and Technology, volume 1905, pages 861-870,\n",
      "     San Jose, CA, 1993.\n",
      "   - O.L. Mangasarian, W.N. Street and W.H. Wolberg. Breast cancer diagnosis and \n",
      "     prognosis via linear programming. Operations Research, 43(4), pages 570-577, \n",
      "     July-August 1995.\n",
      "   - W.H. Wolberg, W.N. Street, and O.L. Mangasarian. Machine learning techniques\n",
      "     to diagnose breast cancer from fine-needle aspirates. Cancer Letters 77 (1994) \n",
      "     163-171.\n"
     ]
    },
    {
     "data": {
      "text/plain": [
       "'C:\\\\Users\\\\zhang\\\\anaconda3\\\\lib\\\\site-packages\\\\sklearn\\\\datasets\\\\data\\\\breast_cancer.csv'"
      ]
     },
     "execution_count": 5,
     "metadata": {},
     "output_type": "execute_result"
    }
   ],
   "source": [
    "cancer['data'].shape\n",
    "cancer['target'].shape\n",
    "print(cancer['DESCR'])\n",
    "cancer['filename']"
   ]
  },
  {
   "cell_type": "code",
   "execution_count": 6,
   "metadata": {},
   "outputs": [
    {
     "data": {
      "text/plain": [
       "dict_keys(['data', 'target', 'frame', 'target_names', 'DESCR', 'feature_names', 'filename'])"
      ]
     },
     "execution_count": 6,
     "metadata": {},
     "output_type": "execute_result"
    }
   ],
   "source": [
    "from sklearn.datasets import load_iris    # 导入鸢尾花数据\n",
    "iris = load_iris()\n",
    "iris.keys()"
   ]
  },
  {
   "cell_type": "code",
   "execution_count": 7,
   "metadata": {
    "scrolled": false
   },
   "outputs": [
    {
     "data": {
      "text/plain": [
       "(150,)"
      ]
     },
     "execution_count": 7,
     "metadata": {},
     "output_type": "execute_result"
    }
   ],
   "source": [
    "iris['data'].shape\n",
    "iris['target'].shape"
   ]
  },
  {
   "cell_type": "markdown",
   "metadata": {},
   "source": [
    "#### 将数据集划分为训练集和测试集"
   ]
  },
  {
   "cell_type": "code",
   "execution_count": 8,
   "metadata": {},
   "outputs": [],
   "source": [
    "from sklearn.datasets import load_iris\n",
    "from sklearn.model_selection import train_test_split\n",
    "import pandas as pd\n",
    "iris = load_iris()"
   ]
  },
  {
   "cell_type": "code",
   "execution_count": 9,
   "metadata": {},
   "outputs": [],
   "source": [
    "X_train, X_test, y_train, y_test = train_test_split(iris['data'], iris['target'], test_size=0.2, stratify=iris['target'])  # 拆分数据"
   ]
  },
  {
   "cell_type": "code",
   "execution_count": 10,
   "metadata": {},
   "outputs": [
    {
     "data": {
      "text/plain": [
       "2    40\n",
       "1    40\n",
       "0    40\n",
       "dtype: int64"
      ]
     },
     "execution_count": 10,
     "metadata": {},
     "output_type": "execute_result"
    }
   ],
   "source": [
    "X_train.shape\n",
    "pd.Series(y_train).value_counts()"
   ]
  },
  {
   "cell_type": "markdown",
   "metadata": {},
   "source": [
    "#### sklearn转换器"
   ]
  },
  {
   "cell_type": "code",
   "execution_count": 11,
   "metadata": {},
   "outputs": [],
   "source": [
    "from sklearn.datasets import load_iris\n",
    "from sklearn.model_selection import train_test_split\n",
    "from sklearn.preprocessing import MinMaxScaler\n",
    "\n",
    "iris = load_iris()\n",
    "X_train, X_test, y_train, y_test = train_test_split(iris['data'], iris['target'], test_size=0.2, stratify=iris['target'])"
   ]
  },
  {
   "cell_type": "code",
   "execution_count": 12,
   "metadata": {},
   "outputs": [],
   "source": [
    "min_max_scaler = MinMaxScaler().fit(X_train)   # 利用训练集数据生成转化器"
   ]
  },
  {
   "cell_type": "code",
   "execution_count": 13,
   "metadata": {},
   "outputs": [
    {
     "data": {
      "text/plain": [
       "array([[0.33333333, 0.13636364, 0.50847458, 0.5       ],\n",
       "       [0.44444444, 0.54545455, 0.6440678 , 0.70833333],\n",
       "       [0.5       , 0.40909091, 0.62711864, 0.54166667],\n",
       "       [0.61111111, 0.45454545, 0.81355932, 0.875     ],\n",
       "       [0.55555556, 0.13636364, 0.57627119, 0.5       ],\n",
       "       [0.55555556, 0.63636364, 0.77966102, 0.95833333],\n",
       "       [0.55555556, 0.22727273, 0.6779661 , 0.75      ],\n",
       "       [0.58333333, 0.5       , 0.76271186, 0.70833333],\n",
       "       [0.55555556, 0.31818182, 0.66101695, 0.70833333],\n",
       "       [0.30555556, 0.77272727, 0.08474576, 0.04166667],\n",
       "       [0.13888889, 0.45454545, 0.06779661, 0.        ],\n",
       "       [0.08333333, 0.54545455, 0.06779661, 0.04166667],\n",
       "       [0.63888889, 0.40909091, 0.61016949, 0.5       ],\n",
       "       [0.58333333, 0.54545455, 0.72881356, 0.91666667],\n",
       "       [0.30555556, 0.63636364, 0.08474576, 0.125     ],\n",
       "       [0.30555556, 0.86363636, 0.05084746, 0.125     ],\n",
       "       [0.72222222, 0.5       , 0.74576271, 0.83333333],\n",
       "       [0.66666667, 0.22727273, 0.81355932, 0.70833333],\n",
       "       [0.38888889, 1.09090909, 0.08474576, 0.125     ],\n",
       "       [0.22222222, 0.77272727, 0.08474576, 0.125     ],\n",
       "       [0.11111111, 0.54545455, 0.10169492, 0.04166667],\n",
       "       [0.16666667, 0.18181818, 0.38983051, 0.375     ],\n",
       "       [0.52777778, 0.63636364, 0.74576271, 0.91666667],\n",
       "       [0.22222222, 0.81818182, 0.08474576, 0.08333333],\n",
       "       [0.58333333, 0.54545455, 0.59322034, 0.58333333],\n",
       "       [0.41666667, 0.31818182, 0.49152542, 0.45833333],\n",
       "       [0.41666667, 0.27272727, 0.50847458, 0.45833333],\n",
       "       [0.16666667, 0.45454545, 0.06779661, 0.04166667],\n",
       "       [0.55555556, 0.59090909, 0.84745763, 1.        ],\n",
       "       [0.69444444, 0.36363636, 0.6440678 , 0.54166667]])"
      ]
     },
     "execution_count": 13,
     "metadata": {},
     "output_type": "execute_result"
    }
   ],
   "source": [
    "min_max_scaler.transform(X_train)   # 对训练集数据执行转化操作\n",
    "min_max_scaler.transform(X_test)    # 对测试集数据执行转化操作"
   ]
  },
  {
   "cell_type": "code",
   "execution_count": 14,
   "metadata": {},
   "outputs": [
    {
     "data": {
      "text/plain": [
       "array([[0.66666667, 0.59090909, 0.79661017, 0.83333333],\n",
       "       [0.66666667, 0.5       , 0.57627119, 0.54166667],\n",
       "       [0.41666667, 0.31818182, 0.69491525, 0.75      ],\n",
       "       [1.        , 0.81818182, 0.91525424, 0.79166667],\n",
       "       [0.86111111, 0.36363636, 0.86440678, 0.75      ],\n",
       "       [0.47222222, 0.63636364, 0.59322034, 0.625     ],\n",
       "       [0.08333333, 0.5       , 0.08474576, 0.04166667],\n",
       "       [0.83333333, 0.40909091, 0.89830508, 0.70833333],\n",
       "       [0.19444444, 0.72727273, 0.06779661, 0.04166667],\n",
       "       [0.33333333, 0.68181818, 0.05084746, 0.04166667],\n",
       "       [0.25      , 0.95454545, 0.08474576, 0.        ],\n",
       "       [0.58333333, 0.36363636, 0.77966102, 0.83333333],\n",
       "       [0.66666667, 0.5       , 0.62711864, 0.58333333],\n",
       "       [0.30555556, 0.63636364, 0.11864407, 0.04166667],\n",
       "       [0.5       , 0.36363636, 0.50847458, 0.5       ],\n",
       "       [0.38888889, 0.27272727, 0.42372881, 0.375     ],\n",
       "       [0.22222222, 0.68181818, 0.06779661, 0.08333333],\n",
       "       [0.41666667, 0.90909091, 0.03389831, 0.04166667],\n",
       "       [0.25      , 0.68181818, 0.08474576, 0.04166667],\n",
       "       [0.30555556, 0.86363636, 0.11864407, 0.125     ],\n",
       "       [0.13888889, 0.63636364, 0.10169492, 0.04166667],\n",
       "       [0.19444444, 0.68181818, 0.05084746, 0.08333333],\n",
       "       [0.55555556, 0.59090909, 0.62711864, 0.625     ],\n",
       "       [0.33333333, 1.        , 0.06779661, 0.04166667],\n",
       "       [0.41666667, 0.36363636, 0.69491525, 0.95833333],\n",
       "       [0.58333333, 0.40909091, 0.55932203, 0.5       ],\n",
       "       [0.16666667, 0.22727273, 0.59322034, 0.66666667],\n",
       "       [0.11111111, 0.54545455, 0.05084746, 0.04166667],\n",
       "       [0.44444444, 0.45454545, 0.54237288, 0.58333333],\n",
       "       [0.16666667, 0.72727273, 0.06779661, 0.        ],\n",
       "       [0.27777778, 0.77272727, 0.08474576, 0.04166667],\n",
       "       [0.5       , 0.36363636, 0.62711864, 0.45833333],\n",
       "       [0.55555556, 0.40909091, 0.77966102, 0.70833333],\n",
       "       [0.61111111, 0.36363636, 0.61016949, 0.58333333],\n",
       "       [0.47222222, 0.40909091, 0.59322034, 0.58333333],\n",
       "       [0.47222222, 0.45454545, 0.6440678 , 0.70833333],\n",
       "       [0.        , 0.45454545, 0.01694915, 0.        ],\n",
       "       [0.66666667, 0.45454545, 0.6779661 , 0.66666667],\n",
       "       [0.38888889, 0.45454545, 0.54237288, 0.45833333],\n",
       "       [0.55555556, 0.22727273, 0.66101695, 0.58333333],\n",
       "       [0.33333333, 0.27272727, 0.57627119, 0.45833333],\n",
       "       [0.80555556, 0.72727273, 0.86440678, 1.        ],\n",
       "       [0.22222222, 0.59090909, 0.11864407, 0.16666667],\n",
       "       [0.5       , 0.27272727, 0.77966102, 0.54166667],\n",
       "       [0.36111111, 0.40909091, 0.44067797, 0.5       ],\n",
       "       [0.80555556, 0.45454545, 0.81355932, 0.625     ],\n",
       "       [0.19444444, 0.13636364, 0.38983051, 0.375     ],\n",
       "       [0.38888889, 0.36363636, 0.59322034, 0.5       ],\n",
       "       [0.5       , 0.45454545, 0.66101695, 0.70833333],\n",
       "       [0.36111111, 0.31818182, 0.54237288, 0.5       ],\n",
       "       [0.02777778, 0.40909091, 0.06779661, 0.04166667],\n",
       "       [0.66666667, 0.59090909, 0.79661017, 1.        ],\n",
       "       [0.36111111, 0.45454545, 0.52542373, 0.5       ],\n",
       "       [0.38888889, 0.81818182, 0.11864407, 0.08333333],\n",
       "       [0.19444444, 0.63636364, 0.08474576, 0.04166667],\n",
       "       [0.47222222, 0.31818182, 0.69491525, 0.625     ],\n",
       "       [0.66666667, 0.45454545, 0.71186441, 0.91666667],\n",
       "       [0.52777778, 0.36363636, 0.6440678 , 0.70833333],\n",
       "       [0.19444444, 0.45454545, 0.10169492, 0.04166667],\n",
       "       [0.94444444, 0.36363636, 0.96610169, 0.79166667],\n",
       "       [0.69444444, 0.54545455, 0.83050847, 0.91666667],\n",
       "       [0.72222222, 0.5       , 0.66101695, 0.58333333],\n",
       "       [0.33333333, 0.18181818, 0.45762712, 0.375     ],\n",
       "       [0.63888889, 0.45454545, 0.57627119, 0.54166667],\n",
       "       [0.30555556, 0.45454545, 0.59322034, 0.58333333],\n",
       "       [0.22222222, 0.22727273, 0.33898305, 0.41666667],\n",
       "       [0.38888889, 0.40909091, 0.54237288, 0.5       ],\n",
       "       [0.19444444, 0.        , 0.42372881, 0.375     ],\n",
       "       [0.47222222, 0.09090909, 0.6779661 , 0.58333333],\n",
       "       [0.38888889, 0.22727273, 0.6779661 , 0.79166667],\n",
       "       [0.22222222, 0.68181818, 0.06779661, 0.04166667],\n",
       "       [0.16666667, 0.5       , 0.08474576, 0.        ],\n",
       "       [0.22222222, 0.81818182, 0.15254237, 0.125     ],\n",
       "       [0.16666667, 0.5       , 0.08474576, 0.04166667],\n",
       "       [0.5       , 0.45454545, 0.61016949, 0.54166667],\n",
       "       [0.38888889, 0.36363636, 0.52542373, 0.5       ],\n",
       "       [0.47222222, 0.09090909, 0.50847458, 0.375     ],\n",
       "       [0.75      , 0.54545455, 0.62711864, 0.54166667],\n",
       "       [0.77777778, 0.45454545, 0.83050847, 0.83333333],\n",
       "       [0.33333333, 0.22727273, 0.50847458, 0.5       ],\n",
       "       [0.19444444, 0.68181818, 0.10169492, 0.20833333],\n",
       "       [0.52777778, 0.40909091, 0.55932203, 0.5       ],\n",
       "       [0.33333333, 0.18181818, 0.47457627, 0.41666667],\n",
       "       [0.44444444, 0.45454545, 0.69491525, 0.70833333],\n",
       "       [0.94444444, 0.45454545, 0.86440678, 0.91666667],\n",
       "       [0.22222222, 0.81818182, 0.10169492, 0.04166667],\n",
       "       [0.13888889, 0.45454545, 0.06779661, 0.08333333],\n",
       "       [0.72222222, 0.5       , 0.69491525, 0.91666667],\n",
       "       [0.69444444, 0.45454545, 0.76271186, 0.83333333],\n",
       "       [0.80555556, 0.54545455, 0.84745763, 0.70833333],\n",
       "       [0.91666667, 0.45454545, 0.94915254, 0.83333333],\n",
       "       [0.52777778, 0.09090909, 0.59322034, 0.58333333],\n",
       "       [0.72222222, 0.54545455, 0.79661017, 0.91666667],\n",
       "       [0.19444444, 0.54545455, 0.03389831, 0.04166667],\n",
       "       [0.05555556, 0.13636364, 0.05084746, 0.08333333],\n",
       "       [0.36111111, 0.45454545, 0.59322034, 0.58333333],\n",
       "       [0.13888889, 0.5       , 0.10169492, 0.04166667],\n",
       "       [0.66666667, 0.5       , 0.77966102, 0.95833333],\n",
       "       [0.19444444, 0.63636364, 0.10169492, 0.125     ],\n",
       "       [0.58333333, 0.31818182, 0.72881356, 0.75      ],\n",
       "       [0.25      , 0.63636364, 0.06779661, 0.04166667],\n",
       "       [0.08333333, 0.72727273, 0.        , 0.04166667],\n",
       "       [0.41666667, 0.31818182, 0.69491525, 0.75      ],\n",
       "       [0.08333333, 0.63636364, 0.06779661, 0.08333333],\n",
       "       [0.61111111, 0.54545455, 0.69491525, 0.79166667],\n",
       "       [0.19444444, 0.59090909, 0.06779661, 0.04166667],\n",
       "       [0.13888889, 0.63636364, 0.15254237, 0.04166667],\n",
       "       [0.36111111, 0.36363636, 0.66101695, 0.79166667],\n",
       "       [0.02777778, 0.54545455, 0.05084746, 0.04166667],\n",
       "       [0.55555556, 0.36363636, 0.69491525, 0.58333333],\n",
       "       [0.61111111, 0.45454545, 0.71186441, 0.79166667],\n",
       "       [0.02777778, 0.45454545, 0.05084746, 0.04166667],\n",
       "       [0.41666667, 0.31818182, 0.52542373, 0.375     ],\n",
       "       [0.94444444, 0.81818182, 0.96610169, 0.875     ],\n",
       "       [0.25      , 0.31818182, 0.49152542, 0.54166667],\n",
       "       [0.58333333, 0.36363636, 0.77966102, 0.875     ],\n",
       "       [0.94444444, 0.27272727, 1.        , 0.91666667],\n",
       "       [0.61111111, 0.45454545, 0.76271186, 0.70833333],\n",
       "       [0.22222222, 0.63636364, 0.08474576, 0.04166667],\n",
       "       [0.36111111, 0.22727273, 0.49152542, 0.41666667]])"
      ]
     },
     "execution_count": 14,
     "metadata": {},
     "output_type": "execute_result"
    }
   ],
   "source": [
    "MinMaxScaler().fit_transform(X_train)"
   ]
  },
  {
   "cell_type": "markdown",
   "metadata": {},
   "source": [
    "## 构建并评价聚类模型"
   ]
  },
  {
   "cell_type": "code",
   "execution_count": 15,
   "metadata": {},
   "outputs": [
    {
     "data": {
      "text/plain": [
       "array([[5.006     , 3.428     , 1.462     , 0.246     ],\n",
       "       [5.9016129 , 2.7483871 , 4.39354839, 1.43387097],\n",
       "       [6.85      , 3.07368421, 5.74210526, 2.07105263]])"
      ]
     },
     "execution_count": 15,
     "metadata": {},
     "output_type": "execute_result"
    }
   ],
   "source": [
    "from sklearn.datasets import load_iris\n",
    "from sklearn.cluster import KMeans\n",
    "iris = load_iris()\n",
    "\n",
    "k_means = KMeans(n_clusters=3)    # 实例化K-Means聚类算法类\n",
    "k_means.fit(iris['data'])         # 执行聚类操作\n",
    "\n",
    "k_means.labels_              # 各样本聚类标签\n",
    "k_means.cluster_centers_     # 各类中心"
   ]
  },
  {
   "cell_type": "code",
   "execution_count": 16,
   "metadata": {},
   "outputs": [
    {
     "data": {
      "text/plain": [
       "0.7302382722834697"
      ]
     },
     "execution_count": 16,
     "metadata": {},
     "output_type": "execute_result"
    }
   ],
   "source": [
    "from sklearn.metrics import adjusted_rand_score, silhouette_score\n",
    "# help(adjusted_rand_score)\n",
    "adjusted_rand_score(iris['target'], k_means.labels_)   # 利用兰德系数对聚类模型进行效果评估"
   ]
  },
  {
   "cell_type": "code",
   "execution_count": 17,
   "metadata": {},
   "outputs": [
    {
     "data": {
      "text/plain": [
       "0.5528190123564091"
      ]
     },
     "execution_count": 17,
     "metadata": {},
     "output_type": "execute_result"
    }
   ],
   "source": [
    "silhouette_score(iris['data'], k_means.labels_)"
   ]
  },
  {
   "cell_type": "code",
   "execution_count": 18,
   "metadata": {},
   "outputs": [
    {
     "name": "stdout",
     "output_type": "stream",
     "text": [
      "iris数据聚2类calinski_harabaz指数为：0.681046\n",
      "iris数据聚3类calinski_harabaz指数为：0.552819\n",
      "iris数据聚4类calinski_harabaz指数为：0.498051\n",
      "iris数据聚5类calinski_harabaz指数为：0.488749\n",
      "iris数据聚6类calinski_harabaz指数为：0.359943\n"
     ]
    },
    {
     "data": {
      "image/png": "[encoded data removed]",
      "text/plain": [
       "<Figure size 720x432 with 1 Axes>"
      ]
     },
     "metadata": {
      "needs_background": "light"
     },
     "output_type": "display_data"
    }
   ],
   "source": [
    "import matplotlib.pyplot as plt\n",
    "scores = []\n",
    "for k in range(2,7):\n",
    "    ##构建并训练模型\n",
    "    kmeans = KMeans(n_clusters=k, random_state=123).fit(iris['data'])\n",
    "    score = silhouette_score(iris['data'], kmeans.labels_)\n",
    "    scores.append(score)\n",
    "    print('iris数据聚%d类calinski_harabaz指数为：%f'%(k,score))\n",
    "\n",
    "plt.figure(figsize=(10,6))\n",
    "plt.plot(range(2,7),scores,linewidth=1.5, linestyle=\"-\")\n",
    "plt.show()"
   ]
  },
  {
   "cell_type": "markdown",
   "metadata": {},
   "source": [
    "## 构建并评价分类模型"
   ]
  },
  {
   "cell_type": "code",
   "execution_count": 19,
   "metadata": {},
   "outputs": [],
   "source": [
    "from sklearn.datasets import load_iris\n",
    "from sklearn.tree import DecisionTreeClassifier\n",
    "from sklearn.model_selection import train_test_split\n",
    "\n",
    "iris = load_iris(return_X_y=True)"
   ]
  },
  {
   "cell_type": "code",
   "execution_count": 20,
   "metadata": {},
   "outputs": [
    {
     "name": "stdout",
     "output_type": "stream",
     "text": [
      "(120, 4)\n",
      "(30, 4)\n"
     ]
    }
   ],
   "source": [
    "X = iris[0]\n",
    "y = iris[1]\n",
    "\n",
    "X_train, X_test, y_train, y_test = train_test_split(X, y, test_size=0.2, stratify=y)\n",
    "print(X_train.shape)\n",
    "print(X_test.shape)"
   ]
  },
  {
   "cell_type": "code",
   "execution_count": 21,
   "metadata": {},
   "outputs": [
    {
     "data": {
      "text/plain": [
       "DecisionTreeClassifier()"
      ]
     },
     "execution_count": 21,
     "metadata": {},
     "output_type": "execute_result"
    }
   ],
   "source": [
    "clf = DecisionTreeClassifier()    # 实例化决策树分类器\n",
    "clf.fit(X_train, y_train)         # 训练模型"
   ]
  },
  {
   "cell_type": "code",
   "execution_count": 22,
   "metadata": {},
   "outputs": [
    {
     "name": "stdout",
     "output_type": "stream",
     "text": [
      "[0 1 2]\n",
      "[0.03333333 0.         0.0607589  0.90590776]\n"
     ]
    }
   ],
   "source": [
    "print(clf.classes_)\n",
    "print(clf.feature_importances_)"
   ]
  },
  {
   "cell_type": "code",
   "execution_count": 23,
   "metadata": {},
   "outputs": [],
   "source": [
    "predicted = clf.predict(X_test)    # 调用模型对测试样本的标签进行预测"
   ]
  },
  {
   "cell_type": "code",
   "execution_count": 24,
   "metadata": {},
   "outputs": [
    {
     "name": "stdout",
     "output_type": "stream",
     "text": [
      "[1 0 2 1 1 0 0 1 1 1 2 2 0 0 1 0 2 2 2 1 0 0 2 2 0 2 1 1 0 2]\n",
      "[1 0 2 1 1 0 0 1 1 1 2 2 0 0 1 0 2 2 2 1 0 0 2 2 0 2 1 1 0 2]\n",
      "              precision    recall  f1-score   support\n",
      "\n",
      "           0       1.00      1.00      1.00        10\n",
      "           1       1.00      1.00      1.00        10\n",
      "           2       1.00      1.00      1.00        10\n",
      "\n",
      "    accuracy                           1.00        30\n",
      "   macro avg       1.00      1.00      1.00        30\n",
      "weighted avg       1.00      1.00      1.00        30\n",
      "\n"
     ]
    }
   ],
   "source": [
    "# 评价分类模型的性能\n",
    "from sklearn.metrics import classification_report\n",
    "print(predicted)\n",
    "print(y_test)\n",
    "(predicted == y_test).mean()    # 模型精确率（accuracy）\n",
    "\n",
    "report = classification_report(y_test, predicted)\n",
    "print(report)"
   ]
  },
  {
   "cell_type": "markdown",
   "metadata": {},
   "source": [
    "## 构建并评价回归模型"
   ]
  },
  {
   "cell_type": "code",
   "execution_count": 25,
   "metadata": {},
   "outputs": [],
   "source": [
    "from sklearn.datasets import load_boston\n",
    "from sklearn.linear_model import LinearRegression\n",
    "from sklearn.model_selection import train_test_split\n",
    "boston = load_boston()"
   ]
  },
  {
   "cell_type": "code",
   "execution_count": 26,
   "metadata": {},
   "outputs": [
    {
     "data": {
      "text/plain": [
       "dict_keys(['data', 'target', 'feature_names', 'DESCR', 'filename'])"
      ]
     },
     "execution_count": 26,
     "metadata": {},
     "output_type": "execute_result"
    }
   ],
   "source": [
    "boston.keys()"
   ]
  },
  {
   "cell_type": "code",
   "execution_count": 27,
   "metadata": {},
   "outputs": [
    {
     "data": {
      "text/plain": [
       "(506,)"
      ]
     },
     "execution_count": 27,
     "metadata": {},
     "output_type": "execute_result"
    }
   ],
   "source": [
    "# print(boston['DESCR'])   \n",
    "boston['data'].shape\n",
    "boston['target'].shape"
   ]
  },
  {
   "cell_type": "code",
   "execution_count": 28,
   "metadata": {},
   "outputs": [],
   "source": [
    "X_train, X_test, y_train, y_test = \\\n",
    "train_test_split(boston['data'], boston['target'], test_size=0.2)"
   ]
  },
  {
   "cell_type": "code",
   "execution_count": 29,
   "metadata": {},
   "outputs": [],
   "source": [
    "model = LinearRegression().fit(X_train, y_train)   # 模型训练"
   ]
  },
  {
   "cell_type": "code",
   "execution_count": 30,
   "metadata": {},
   "outputs": [
    {
     "data": {
      "text/plain": [
       "36.0118790299223"
      ]
     },
     "execution_count": 30,
     "metadata": {},
     "output_type": "execute_result"
    }
   ],
   "source": [
    "model.coef_            # 系数项\n",
    "model.intercept_       # 截距项"
   ]
  },
  {
   "cell_type": "markdown",
   "metadata": {},
   "source": [
    "#### 评价回归模型"
   ]
  },
  {
   "cell_type": "code",
   "execution_count": 31,
   "metadata": {},
   "outputs": [
    {
     "data": {
      "image/png": "[encoded data removed]",
      "text/plain": [
       "<Figure size 432x288 with 1 Axes>"
      ]
     },
     "metadata": {
      "needs_background": "light"
     },
     "output_type": "display_data"
    }
   ],
   "source": [
    "import matplotlib.pyplot as plt\n",
    "predicted = model.predict(X_test)\n",
    "\n",
    "plt.figure()\n",
    "plt.plot(range(len(y_test)), predicted)\n",
    "plt.plot(range(len(y_test)), y_test, 'r-.')\n",
    "plt.show()"
   ]
  },
  {
   "cell_type": "code",
   "execution_count": 32,
   "metadata": {},
   "outputs": [],
   "source": [
    "from sklearn.metrics import mean_squared_error"
   ]
  },
  {
   "cell_type": "code",
   "execution_count": 33,
   "metadata": {},
   "outputs": [
    {
     "data": {
      "text/plain": [
       "20.434952943172025"
      ]
     },
     "execution_count": 33,
     "metadata": {},
     "output_type": "execute_result"
    }
   ],
   "source": [
    "mean_squared_error(y_test, predicted)   # 计算均方误差"
   ]
  }
 ],
 "metadata": {
  "kernelspec": {
   "display_name": "Python 3",
   "language": "python",
   "name": "python3"
  },
  "language_info": {
   "codemirror_mode": {
    "name": "ipython",
    "version": 3
   },
   "file_extension": ".py",
   "mimetype": "text/x-python",
   "name": "python",
   "nbconvert_exporter": "python",
   "pygments_lexer": "ipython3",
   "version": "3.8.5"
  }
 },
 "nbformat": 4,
 "nbformat_minor": 4
}
