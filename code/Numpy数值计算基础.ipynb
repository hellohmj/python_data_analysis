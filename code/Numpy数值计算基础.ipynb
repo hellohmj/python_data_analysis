{
 "cells": [
  {
   "cell_type": "markdown",
   "metadata": {},
   "source": [
    "## 创建数组"
   ]
  },
  {
   "cell_type": "code",
   "execution_count": 72,
   "metadata": {
    "ExecuteTime": {
     "end_time": "2023-12-09T11:59:01.556918100Z",
     "start_time": "2023-12-09T11:59:01.498218900Z"
    }
   },
   "outputs": [],
   "source": [
    "import numpy as np #导入库时候将名称改为别名np"
   ]
  },
  {
   "cell_type": "code",
   "execution_count": 73,
   "metadata": {
    "ExecuteTime": {
     "end_time": "2023-12-09T11:59:01.560966300Z",
     "start_time": "2023-12-09T11:59:01.525001200Z"
    }
   },
   "outputs": [
    {
     "name": "stdout",
     "output_type": "stream",
     "text": [
      "[0.3 0.5 4.2]\n",
      "[[3 4 5]\n",
      " [4 2 1]]\n",
      "<class 'numpy.ndarray'>\n"
     ]
    }
   ],
   "source": [
    "arr1 = np.array([0.3, 0.5, 4.2])         # 创建一维数组\n",
    "arr2 = np.array([[3, 4, 5], [4, 2, 1]])  # 创建二维数组\n",
    "print(arr1)\n",
    "print(arr2)\n",
    "print(type(arr1)) #打印arr1数据类型type"
   ]
  },
  {
   "cell_type": "code",
   "execution_count": 74,
   "metadata": {
    "ExecuteTime": {
     "end_time": "2023-12-09T11:59:01.591069Z",
     "start_time": "2023-12-09T11:59:01.564919700Z"
    }
   },
   "outputs": [
    {
     "name": "stdout",
     "output_type": "stream",
     "text": [
      "(3,)\n",
      "1\n",
      "float64\n",
      "(2, 3)\n",
      "2\n",
      "int32\n"
     ]
    }
   ],
   "source": [
    "# 查看数组的基础属性\n",
    "print(arr1.shape) #查看数组的维数与元素个数，解构，##元组_结构\n",
    "print(arr1.ndim) #维数\n",
    "print(arr1.dtype) #数组类型\n",
    "print(arr2.shape)\n",
    "print(arr2.ndim)\n",
    "print(arr2.dtype)"
   ]
  },
  {
   "cell_type": "code",
   "execution_count": 75,
   "metadata": {
    "ExecuteTime": {
     "end_time": "2023-12-09T11:59:01.618324900Z",
     "start_time": "2023-12-09T11:59:01.594404900Z"
    }
   },
   "outputs": [
    {
     "name": "stdout",
     "output_type": "stream",
     "text": [
      "[0.3, 0.5, 4.2]\n",
      "[0.3 0.5 4.2]\n",
      "[0.09, 0.25, 17.64]\n",
      "[ 0.09  0.25 17.64]\n"
     ]
    }
   ],
   "source": [
    "# 初识数组的特点\n",
    "list1 = [0.3, 0.5, 4.2]\n",
    "arr1 = np.array([0.3, 0.5, 4.2])\n",
    "print(list1)\n",
    "print(arr1)\n",
    "\n",
    "# 数组的向量化运算能力\n",
    "# list1 ** 2     # 非法操作\n",
    "print([i**2 for i in list1])\n",
    "print(arr1 ** 2)"
   ]
  },
  {
   "cell_type": "code",
   "execution_count": 76,
   "metadata": {
    "ExecuteTime": {
     "end_time": "2023-12-09T11:59:01.647602700Z",
     "start_time": "2023-12-09T11:59:01.621422800Z"
    }
   },
   "outputs": [
    {
     "name": "stdout",
     "output_type": "stream",
     "text": [
      "[0 1 2 3 4 5 6 7 8 9]\n",
      "[0 1 2 3 4 5 6 7 8 9]\n",
      "[0.  0.1 0.2 0.3 0.4 0.5 0.6 0.7 0.8 0.9]\n"
     ]
    }
   ],
   "source": [
    "# 利用arange函数创建数组\n",
    "arr3 = np.arange(0, 10)\n",
    "arr4 = np.arange(10)\n",
    "arr5 = np.arange(0, 1, 0.1)\n",
    "print(arr3)\n",
    "print(arr4)\n",
    "print(arr5)"
   ]
  },
  {
   "cell_type": "code",
   "execution_count": 77,
   "metadata": {
    "ExecuteTime": {
     "end_time": "2023-12-09T11:59:01.673253300Z",
     "start_time": "2023-12-09T11:59:01.649756Z"
    }
   },
   "outputs": [
    {
     "name": "stdout",
     "output_type": "stream",
     "text": [
      "[0.  0.1 0.2 0.3 0.4 0.5 0.6 0.7 0.8 0.9 1. ]\n"
     ]
    }
   ],
   "source": [
    "# 利用linspace函数创建数组\n",
    "arr6 = np.linspace(0, 1, 11)\n",
    "print(arr6)"
   ]
  },
  {
   "cell_type": "code",
   "execution_count": 78,
   "metadata": {
    "ExecuteTime": {
     "end_time": "2023-12-09T11:59:01.715848Z",
     "start_time": "2023-12-09T11:59:01.675226Z"
    }
   },
   "outputs": [
    {
     "name": "stdout",
     "output_type": "stream",
     "text": [
      "[[[0. 0. 0. 0. 0.]\n",
      "  [0. 0. 0. 0. 0.]\n",
      "  [0. 0. 0. 0. 0.]\n",
      "  [0. 0. 0. 0. 0.]]\n",
      "\n",
      " [[0. 0. 0. 0. 0.]\n",
      "  [0. 0. 0. 0. 0.]\n",
      "  [0. 0. 0. 0. 0.]\n",
      "  [0. 0. 0. 0. 0.]]\n",
      "\n",
      " [[0. 0. 0. 0. 0.]\n",
      "  [0. 0. 0. 0. 0.]\n",
      "  [0. 0. 0. 0. 0.]\n",
      "  [0. 0. 0. 0. 0.]]]\n"
     ]
    }
   ],
   "source": [
    "# 利用zeros函数创建数组\n",
    "arr7 = np.zeros([3, 4, 5])\n",
    "print(arr7)"
   ]
  },
  {
   "cell_type": "code",
   "execution_count": 79,
   "metadata": {
    "ExecuteTime": {
     "end_time": "2023-12-09T11:59:01.719848600Z",
     "start_time": "2023-12-09T11:59:01.682078600Z"
    }
   },
   "outputs": [
    {
     "name": "stdout",
     "output_type": "stream",
     "text": [
      "[3. 4. 5.]\n",
      "float32\n",
      "[1.2 4.  5. ]\n",
      "[1 4 5]\n"
     ]
    }
   ],
   "source": [
    "# 数组的数据类型\n",
    "arr8 = np.array([3, 4, 5], dtype=np.float32)   # 在创建数组时，声明其数据类型\n",
    "print(arr8)\n",
    "print(arr8.dtype)\n",
    "\n",
    "arr8[0] = 1.2    \n",
    "print(arr8)\n",
    "print(np.int32(arr8))   # 转换数组的数据类型"
   ]
  },
  {
   "cell_type": "code",
   "execution_count": 80,
   "metadata": {
    "ExecuteTime": {
     "end_time": "2023-12-09T11:59:01.720847100Z",
     "start_time": "2023-12-09T11:59:01.695916900Z"
    }
   },
   "outputs": [
    {
     "name": "stdout",
     "output_type": "stream",
     "text": [
      "[0.17686211 0.32176748 0.06864791 0.98942119 0.30739362 0.13614624\n",
      " 0.57679229 0.16888608 0.88818192 0.05132514]\n",
      "[[0.71053881 0.08590074 0.79555594 0.65237204]\n",
      " [0.24350481 0.93167947 0.99069162 0.7629989 ]\n",
      " [0.90477129 0.24507582 0.24386439 0.67139608]]\n",
      "[[[ 0.93978028 -1.39487646 -0.85943937]\n",
      "  [ 0.1521953   0.48971632 -1.10566766]]\n",
      "\n",
      " [[-1.17592839  0.18073964  0.03917536]\n",
      "  [-1.44809722 -0.89112617 -1.38945007]]]\n"
     ]
    }
   ],
   "source": [
    "# 生成随机数\n",
    "print(np.random.random(10))   # 无约束条件下的随机数\n",
    "print(np.random.rand(3, 4))   # 生成指定shape的均匀分布随机数\n",
    "print(np.random.randn(2, 2, 3))   # 生成指定shape的正态分布随机数"
   ]
  },
  {
   "cell_type": "code",
   "execution_count": 81,
   "metadata": {
    "ExecuteTime": {
     "end_time": "2023-12-09T11:59:01.767710600Z",
     "start_time": "2023-12-09T11:59:01.727374900Z"
    }
   },
   "outputs": [
    {
     "name": "stdout",
     "output_type": "stream",
     "text": [
      "[0.3  0.78 0.24 5.   3.2 ]\n",
      "0.3\n",
      "0.3\n",
      "[0.78 0.24]\n",
      "[0.78 0.24]\n",
      "5.0 ()\n",
      "[5.] (1,)\n"
     ]
    }
   ],
   "source": [
    "# 数组的索引\n",
    "arr1 = np.array([0.3, 0.78, 0.24, 5, 3.2])\n",
    "print(arr1)\n",
    "\n",
    "# 一维数组的单个元素的索引\n",
    "print(arr1[0])   \n",
    "print(arr1[-5])\n",
    "\n",
    "# 一维数组的多个元素的索引（切片）\n",
    "print(arr1[1:3])\n",
    "print(arr1[-4:-2])\n",
    "\n",
    "res1 = arr1[3]\n",
    "res2 = arr1[3:4]\n",
    "print(res1, res1.shape)\n",
    "print(res2, res2.shape)\n"
   ]
  },
  {
   "cell_type": "code",
   "execution_count": 82,
   "metadata": {
    "ExecuteTime": {
     "end_time": "2023-12-09T11:59:01.789967Z",
     "start_time": "2023-12-09T11:59:01.773811300Z"
    }
   },
   "outputs": [
    {
     "name": "stdout",
     "output_type": "stream",
     "text": [
      "[2.3 1.8 4.5]\n",
      "[4.5]\n",
      "[ True False  True]\n",
      "[2.3 4.5]\n"
     ]
    }
   ],
   "source": [
    "# 逻辑型索引\n",
    "arr2 = np.array([2.3, 1.8, 4.5])\n",
    "print(arr2)\n",
    "print(arr2[[False, False, True]])\n",
    "index = arr2 > 2\n",
    "print(index)\n",
    "print(arr2[index])"
   ]
  },
  {
   "cell_type": "code",
   "execution_count": 83,
   "metadata": {
    "ExecuteTime": {
     "end_time": "2023-12-09T11:59:01.827562400Z",
     "start_time": "2023-12-09T11:59:01.781511600Z"
    }
   },
   "outputs": [
    {
     "name": "stdout",
     "output_type": "stream",
     "text": [
      "[[ 1  2  3  4]\n",
      " [ 5  6  7  8]\n",
      " [ 9 10 11 12]]\n",
      "12\n",
      "[ 9 10 11 12]\n",
      "[1 5 9]\n",
      "[[ 6  7]\n",
      " [10 11]]\n",
      "[[ 9 10 11 12]]\n",
      "[[ 5  6  7  8]\n",
      " [ 9 10 11 12]]\n"
     ]
    }
   ],
   "source": [
    "# 多维数组的索引\n",
    "arr3 = np.arange(1, 13).reshape([3, 4])\n",
    "print(arr3)\n",
    "print(arr3[2, 3])\n",
    "print(arr3[2, 0:])\n",
    "print(arr3[:, 0])\n",
    "print(arr3[1:3, 1:3])\n",
    "\n",
    "print(arr3[2:, :])   # 注意返回值的shape\n",
    "\n",
    "print(arr3[arr3[:, 0] > 4, :])  # 二维数组的逻辑型索引"
   ]
  },
  {
   "cell_type": "code",
   "execution_count": 84,
   "metadata": {
    "ExecuteTime": {
     "end_time": "2023-12-09T11:59:01.828539500Z",
     "start_time": "2023-12-09T11:59:01.795619900Z"
    }
   },
   "outputs": [
    {
     "name": "stdout",
     "output_type": "stream",
     "text": [
      "[[ 1  2  3  4]\n",
      " [ 5  6  7  8]\n",
      " [ 9 10 11 12]]\n",
      "[[15  2  3  4]\n",
      " [ 5  6  7  8]\n",
      " [ 9 10 11 12]]\n"
     ]
    }
   ],
   "source": [
    "# 修改数组中的元素\n",
    "arr3 = np.arange(1, 13).reshape([3, 4])\n",
    "print(arr3)\n",
    "arr3[0, 0] = 15\n",
    "print(arr3)"
   ]
  },
  {
   "cell_type": "code",
   "execution_count": 85,
   "metadata": {
    "ExecuteTime": {
     "end_time": "2023-12-09T11:59:01.898573900Z",
     "start_time": "2023-12-09T11:59:01.834124600Z"
    }
   },
   "outputs": [
    {
     "name": "stdout",
     "output_type": "stream",
     "text": [
      "[  1.   2.   3.   4.   5.   6.   7.   8.   9.  10.  11.  12.  13.  14.\n",
      "  15.  16.  17.  18.  19.  20.  21.  22.  23.  24.  25.  26.  27.  28.\n",
      "  29.  30.  31.  32.  33.  34.  35.  36.  37.  38.  39.  40.  41.  42.\n",
      "  43.  44.  45.  46.  47.  48.  49.  50.  51.  52.  53.  54.  55.  56.\n",
      "  57.  58.  59.  60.  61.  62.  63.  64.  65.  66.  67.  68.  69.  70.\n",
      "  71.  72.  73.  74.  75.  76.  77.  78.  79.  80.  81.  82.  83.  84.\n",
      "  85.  86.  87.  88.  89.  90.  91.  92.  93.  94.  95.  96.  97.  98.\n",
      "  99. 100.]\n",
      "[  1.   2.   3.   4.   5.   6.   7.   8.   9.  10.  11.  12.  13.  14.\n",
      "  15.  16.  17.  18.  19.  20.  21.  22.  23.  24.  25.  26.  27.  28.\n",
      "  29.  30.  31.  32.  33.  34.  35.  36.  37.  38.  39.  40.  41.  42.\n",
      "  43.  44.  45.  46.  47.  48.  49.  50.  51.  52.  53.  54.  55.  56.\n",
      "  57.  58.  59.  60.  61.  62.  63.  64.  65.  66.  67.  68.  69.  70.\n",
      "  71.  72.  73.  74.  75.  76.  77.  78.  79.  80.  81.  82.  83.  84.\n",
      "  85.  86.  87.  88.  89.  90.  91.  92.  93.  94.  95.  96.  97.  98.\n",
      "  99. 100.]\n",
      "[[  0.           1.41421356   2.82842712 ... 137.17871555 138.59292911\n",
      "  140.00714267]\n",
      " [  1.41421356   0.           1.41421356 ... 135.76450199 137.17871555\n",
      "  138.59292911]\n",
      " [  2.82842712   1.41421356   0.         ... 134.35028843 135.76450199\n",
      "  137.17871555]\n",
      " ...\n",
      " [137.17871555 135.76450199 134.35028843 ...   0.           1.41421356\n",
      "    2.82842712]\n",
      " [138.59292911 137.17871555 135.76450199 ...   1.41421356   0.\n",
      "    1.41421356]\n",
      " [140.00714267 138.59292911 137.17871555 ...   2.82842712   1.41421356\n",
      "    0.        ]]\n"
     ]
    }
   ],
   "source": [
    "# 求解距离矩阵\n",
    "n = 100    # 样本个数\n",
    "x = np.linspace(1, 100, n)    # 样本的横坐标\n",
    "y = np.linspace(1, 100, n)    # 样本的纵坐标\n",
    "\n",
    "dist = np.zeros([n, n])       # 初始距离矩阵\n",
    "\n",
    "for i in range(n):\n",
    "    for j in range(n):\n",
    "        dist[i, j] = np.sqrt((x[i] - x[j])**2 + (y[i] - y[j])**2)   # 计算欧式距离\n",
    "\n",
    "print(x)\n",
    "print(y)\n",
    "print(dist)"
   ]
  },
  {
   "cell_type": "code",
   "execution_count": 86,
   "metadata": {
    "ExecuteTime": {
     "end_time": "2023-12-09T11:59:01.899591Z",
     "start_time": "2023-12-09T11:59:01.878112400Z"
    }
   },
   "outputs": [
    {
     "name": "stdout",
     "output_type": "stream",
     "text": [
      "[ 1  2  3  4  5  6  7  8  9 10 11 12]\n",
      "[[ 1  2  3  4]\n",
      " [ 5  6  7  8]\n",
      " [ 9 10 11 12]]\n",
      "[[ 1  2  3]\n",
      " [ 4  5  6]\n",
      " [ 7  8  9]\n",
      " [10 11 12]]\n",
      "[[ 1  2  3  4]\n",
      " [ 5  6  7  8]\n",
      " [ 9 10 11 12]]\n",
      "[ 1  2  3  4  5  6  7  8  9 10 11 12]\n",
      "[[ 1  2  3  4]\n",
      " [ 5  6  7  8]\n",
      " [ 9 10 11 12]]\n",
      "[[ 1  2  3  4]\n",
      " [ 5  6  7  8]\n",
      " [ 9 10 11 12]\n",
      " [ 1  2  3  4]\n",
      " [ 5  6  7  8]\n",
      " [ 9 10 11 12]]\n",
      "[[ 1  2  3  4  1  2  3  4]\n",
      " [ 5  6  7  8  5  6  7  8]\n",
      " [ 9 10 11 12  9 10 11 12]]\n"
     ]
    }
   ],
   "source": [
    "# 数组形态变化\n",
    "arr4 = np.arange(1, 13)\n",
    "print(arr4)\n",
    "print(arr4.reshape([3, 4]))  # 改变数组的shape\n",
    "print(arr4.reshape([4, 3]))\n",
    "\n",
    "arr5 = arr4.reshape([3, 4])   # 生成二维数组\n",
    "print(arr5)\n",
    "print(arr5.ravel())   # 数组展平\n",
    "arr5.flatten()\n",
    "\n",
    "arr6 = arr4.reshape([3, 4])\n",
    "print(arr6)\n",
    "print(np.vstack([arr5, arr6]))    # 纵向组合\n",
    "print(np.hstack((arr5, arr6)))    # 横向组合"
   ]
  },
  {
   "cell_type": "markdown",
   "metadata": {},
   "source": [
    "## 掌握 NumPy 矩阵与通用函数"
   ]
  },
  {
   "cell_type": "code",
   "execution_count": 87,
   "metadata": {
    "ExecuteTime": {
     "end_time": "2023-12-09T11:59:01.899591Z",
     "start_time": "2023-12-09T11:59:01.884984100Z"
    }
   },
   "outputs": [],
   "source": [
    "import numpy as np"
   ]
  },
  {
   "cell_type": "code",
   "execution_count": 88,
   "metadata": {
    "ExecuteTime": {
     "end_time": "2023-12-09T11:59:01.960133500Z",
     "start_time": "2023-12-09T11:59:01.902580600Z"
    }
   },
   "outputs": [
    {
     "name": "stdout",
     "output_type": "stream",
     "text": [
      "[[1 2 3]\n",
      " [4 5 6]\n",
      " [7 8 9]]\n",
      "<class 'numpy.matrix'>\n",
      "[[1 2 3]\n",
      " [4 5 6]\n",
      " [7 8 9]]\n",
      "<class 'numpy.matrix'>\n",
      "[[1 2 3 1 2 3]\n",
      " [4 5 6 4 5 6]\n",
      " [7 8 9 7 8 9]\n",
      " [1 2 3 1 2 3]\n",
      " [4 5 6 4 5 6]\n",
      " [7 8 9 7 8 9]]\n",
      "[[1 4 7]\n",
      " [2 5 8]\n",
      " [3 6 9]]\n",
      "[[ 3.15251974e+15 -6.30503948e+15  3.15251974e+15]\n",
      " [-6.30503948e+15  1.26100790e+16 -6.30503948e+15]\n",
      " [ 3.15251974e+15 -6.30503948e+15  3.15251974e+15]]\n"
     ]
    }
   ],
   "source": [
    "matr1 = np.mat(\"1 2 3;4 5 6;7 8 9\")\n",
    "print(matr1)\n",
    "print(type(matr1))\n",
    "\n",
    "matr2 = np.matrix([[1, 2, 3],[4, 5, 6],[7, 8, 9]])\n",
    "print(matr2)\n",
    "print(type(matr2))\n",
    "\n",
    "print(np.bmat('matr1 matr2; matr1, matr2'))   # 矩阵拼接\n",
    "\n",
    "print(matr1.T)   # 矩阵的转置\n",
    "print(matr1.I)   # 矩阵的逆"
   ]
  },
  {
   "cell_type": "code",
   "execution_count": 89,
   "metadata": {
    "ExecuteTime": {
     "end_time": "2023-12-09T11:59:01.962137900Z",
     "start_time": "2023-12-09T11:59:01.915068800Z"
    }
   },
   "outputs": [
    {
     "name": "stdout",
     "output_type": "stream",
     "text": [
      "[1.2 1.4 1.6]\n",
      "[0.4 0.8 1.2]\n",
      "[0.2, 0.4, 0.6, 0.2, 0.4, 0.6]\n",
      "[0.4  1.   1.38]\n",
      "[0.04  0.24  0.468]\n",
      "[ True  True  True]\n",
      "[False  True  True]\n",
      "True\n",
      "False\n"
     ]
    }
   ],
   "source": [
    "# 通用函数\n",
    "arr1 = np.array([0.2, 0.4, 0.6])\n",
    "arr2 = np.array([0.2, 0.6, 0.78])\n",
    "list1 = [0.2, 0.4, 0.6]\n",
    "\n",
    "print(arr1 + 1)\n",
    "# print(list1 + 1)  # 非法操作\n",
    "print(arr1 * 2)\n",
    "print(list1 * 2)    # 注意其返回结果\n",
    "\n",
    "print(arr1 + arr2)  # 对应元素相加\n",
    "print(arr1 * arr2)  # 对应元素相乘\n",
    "\n",
    "print(arr1 > 0)\n",
    "print(arr1 < arr2)\n",
    "\n",
    "print(np.any(arr1 == 0.2))   # 逻辑 or\n",
    "print(np.all(arr1 == 0.2))   # 逻辑 and"
   ]
  },
  {
   "cell_type": "code",
   "execution_count": 90,
   "metadata": {
    "ExecuteTime": {
     "end_time": "2023-12-09T11:59:02.037510200Z",
     "start_time": "2023-12-09T11:59:01.968503900Z"
    }
   },
   "outputs": [
    {
     "name": "stdout",
     "output_type": "stream",
     "text": [
      "[[ 1  2  3]\n",
      " [ 4  5  6]\n",
      " [ 7  8  9]\n",
      " [10 11 12]]\n",
      "[1 2 3]\n",
      "[[1]\n",
      " [2]\n",
      " [3]\n",
      " [4]]\n",
      "[[ 2  4  6]\n",
      " [ 5  7  9]\n",
      " [ 8 10 12]\n",
      " [11 13 15]]\n",
      "[[ 2  3  4]\n",
      " [ 6  7  8]\n",
      " [10 11 12]\n",
      " [14 15 16]]\n"
     ]
    }
   ],
   "source": [
    "# 广播机制\n",
    "arr3 = np.arange(1, 13).reshape([4, 3])\n",
    "arr4 = np.array([1, 2, 3])\n",
    "arr5 = np.array([[1], [2], [3], [4]])\n",
    "print(arr3)\n",
    "print(arr4)\n",
    "print(arr5)\n",
    "\n",
    "print(arr3 + arr4)\n",
    "print(arr3 + arr5)"
   ]
  },
  {
   "cell_type": "markdown",
   "metadata": {},
   "source": [
    "## 利用 NumPy 进行统计分析"
   ]
  },
  {
   "cell_type": "code",
   "execution_count": 91,
   "metadata": {
    "ExecuteTime": {
     "end_time": "2023-12-09T11:59:02.055358200Z",
     "start_time": "2023-12-09T11:59:02.024780600Z"
    }
   },
   "outputs": [],
   "source": [
    "import numpy as np"
   ]
  },
  {
   "cell_type": "code",
   "execution_count": 95,
   "metadata": {
    "ExecuteTime": {
     "end_time": "2023-12-09T12:02:15.115062Z",
     "start_time": "2023-12-09T12:02:15.094960200Z"
    }
   },
   "outputs": [
    {
     "name": "stdout",
     "output_type": "stream",
     "text": [
      "[[ 1  2  3]\n",
      " [ 4  5  6]\n",
      " [ 7  8  9]\n",
      " [10 11 12]]\n",
      "[[ 1  2  3  4]\n",
      " [ 5  6  7  8]\n",
      " [ 9 10 11 12]]\n",
      "[[ 1  2  3]\n",
      " [ 4  5  6]\n",
      " [ 7  8  9]\n",
      " [10 11 12]]\n",
      "<numpy.lib.npyio.NpzFile object at 0x000001B48D187610>\n",
      "['arr_0', 'arr_1']\n",
      "[[ 1  2  3]\n",
      " [ 4  5  6]\n",
      " [ 7  8  9]\n",
      " [10 11 12]]\n"
     ]
    }
   ],
   "source": [
    "# 读写二进制文件\n",
    "arr1 = np.arange(1, 13).reshape([4, 3])\n",
    "arr2 = np.arange(1, 13).reshape([3, 4])\n",
    "print(arr1)\n",
    "print(arr2)\n",
    "\n",
    "np.save('C:/Users/VICTUS/OneDrive - stu.fynu.edu.cn/python数据分析与应用ZM/tmp/arr1.npy', arr1)        # 保存数据\n",
    "arr1_load = np.load('C:/Users/VICTUS/OneDrive - stu.fynu.edu.cn/python数据分析与应用ZM/tmp/arr1.npy')  # 读取数据\n",
    "print(arr1_load)\n",
    "\n",
    "np.savez('C:/Users/VICTUS/OneDrive - stu.fynu.edu.cn/python数据分析与应用ZM/tmp/arr1&2.npz', arr1, arr2)   # 保存多个数组数据\n",
    "arr1_2_load = np.load('C:/Users/VICTUS/OneDrive - stu.fynu.edu.cn/python数据分析与应用ZM/tmp/arr1&2.npz')\n",
    "\n",
    "print(arr1_2_load)\n",
    "print(arr1_2_load.files)     # 查看数据文件中有哪些数组对象\n",
    "print(arr1_2_load['arr_0'])  # 访问数据文件中的具体数组对象"
   ]
  },
  {
   "cell_type": "code",
   "execution_count": 96,
   "metadata": {
    "ExecuteTime": {
     "end_time": "2023-12-09T12:02:39.622860600Z",
     "start_time": "2023-12-09T12:02:39.596163300Z"
    }
   },
   "outputs": [
    {
     "data": {
      "text/plain": "array([[ 1.,  2.,  3.],\n       [ 4.,  5.,  6.],\n       [ 7.,  8.,  9.],\n       [10., 11., 12.]])"
     },
     "execution_count": 96,
     "metadata": {},
     "output_type": "execute_result"
    }
   ],
   "source": [
    "# 读写txt文件\n",
    "np.savetxt('C:/Users/VICTUS/OneDrive - stu.fynu.edu.cn/python数据分析与应用ZM/tmp/arr1.txt', arr1, delimiter=',')   # 保存数据\n",
    "np.loadtxt('C:/Users/VICTUS/OneDrive - stu.fynu.edu.cn/python数据分析与应用ZM/tmp/arr1.txt', delimiter=',')         # 读取数据"
   ]
  },
  {
   "cell_type": "code",
   "execution_count": 97,
   "metadata": {
    "ExecuteTime": {
     "end_time": "2023-12-09T12:02:48.377842400Z",
     "start_time": "2023-12-09T12:02:48.353585800Z"
    }
   },
   "outputs": [
    {
     "name": "stdout",
     "output_type": "stream",
     "text": [
      "[[9 6 8 4]\n",
      " [3 7 1 4]\n",
      " [5 6 3 5]]\n",
      "[[3 6 1 4]\n",
      " [5 6 3 4]\n",
      " [9 7 8 5]]\n",
      "[[0 0 0 0]\n",
      " [1 1 1 1]\n",
      " [2 2 2 2]]\n",
      "[[3 6 1 4 3 6 1 4]\n",
      " [5 6 3 4 5 6 3 4]\n",
      " [9 7 8 5 9 7 8 5]]\n",
      "[[3 3 6 6 1 1 4 4]\n",
      " [5 5 6 6 3 3 4 4]\n",
      " [9 9 7 7 8 8 5 5]]\n",
      "5.083333333333333\n",
      "[5.66666667 6.33333333 4.         4.33333333]\n",
      "[9 7 8 5]\n",
      "[2 2 2 2]\n"
     ]
    }
   ],
   "source": [
    "# 使用数组进行简单统计分析\n",
    "arr3 = np.random.randint(1, 10, (3, 4))\n",
    "print(arr3)\n",
    "\n",
    "arr3.sort(axis=0)   # 对数组元素按大小进行排序\n",
    "print(arr3)\n",
    "print(arr3.argsort(axis=0))   # 返回排序后的下标\n",
    "\n",
    "print(np.tile(arr3, 2))      # 对数组进行复制操作\n",
    "print(np.repeat(arr3, 2, axis=1))  # 对数组元素进行复制\n",
    "\n",
    "print(arr3.mean())    # 统计数组所有元素的均值\n",
    "print(arr3.mean(axis=0))   # 按列统计数组的均值\n",
    "print(arr3.max(axis=0))\n",
    "\n",
    "print(arr3.argmax(axis=0))   # 找出每列元素最大值的位置"
   ]
  },
  {
   "cell_type": "code",
   "execution_count": null,
   "outputs": [],
   "source": [],
   "metadata": {
    "collapsed": false
   }
  }
 ],
 "metadata": {
  "kernelspec": {
   "display_name": "Python 3",
   "language": "python",
   "name": "python3"
  },
  "language_info": {
   "codemirror_mode": {
    "name": "ipython",
    "version": 3
   },
   "file_extension": ".py",
   "mimetype": "text/x-python",
   "name": "python",
   "nbconvert_exporter": "python",
   "pygments_lexer": "ipython3",
   "version": "3.8.5"
  }
 },
 "nbformat": 4,
 "nbformat_minor": 4
}
